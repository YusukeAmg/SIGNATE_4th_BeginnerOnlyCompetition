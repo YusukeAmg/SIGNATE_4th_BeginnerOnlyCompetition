{
 "cells": [
  {
   "cell_type": "markdown",
   "metadata": {},
   "source": [
    "reference:\n",
    "https://blog.amedama.jp/entry/hyperopt"
   ]
  },
  {
   "cell_type": "code",
   "execution_count": 29,
   "metadata": {},
   "outputs": [],
   "source": [
    "# basic\n",
    "import numpy as np\n",
    "import pandas as pd\n",
    "\n",
    "# plot\n",
    "import seaborn as sns\n",
    "from matplotlib import cm\n",
    "import matplotlib.pyplot as plt\n",
    "import pprint\n",
    "\n",
    "# model\n",
    "from sklearn.metrics import accuracy_score\n",
    "from sklearn.svm import SVR\n",
    "\n",
    "# optimization\n",
    "from functools import partial\n",
    "from sklearn.model_selection import KFold\n",
    "from hyperopt import fmin, tpe, hp, STATUS_OK, Trials, space_eval\n",
    "from sklearn.model_selection import cross_validate\n",
    "from sklearn.metrics import make_scorer\n",
    "from sklearn.metrics import mean_squared_error as MSE\n",
    "\n",
    "# importance\n",
    "import eli5\n",
    "from eli5.sklearn import PermutationImportance\n",
    "\n",
    "# other\n",
    "import pickle\n",
    "import time\n",
    "import datetime"
   ]
  },
  {
   "cell_type": "code",
   "execution_count": 3,
   "metadata": {},
   "outputs": [],
   "source": [
    "train = pd.read_pickle('../features/feature_train_2020-11-07-08-04-37_treated.pkl')\n",
    "test = pd.read_pickle('../features/feature_test_2020-11-07-08-04-37_treated.pkl')\n",
    "sample_sub = pd.read_csv('../data/input/sample_submit.csv', header=None, names=['id', 'mpg'])"
   ]
  },
  {
   "cell_type": "code",
   "execution_count": 44,
   "metadata": {},
   "outputs": [],
   "source": [
    "def RMSE(y_true, y_pred):\n",
    "    return(np.sqrt(MSE(y_true, y_pred)))"
   ]
  },
  {
   "cell_type": "code",
   "execution_count": 45,
   "metadata": {},
   "outputs": [],
   "source": [
    "def score(X, y, args):\n",
    "    model = SVR(kernel='rbf', **args)\n",
    "    \n",
    "    kf = KFold(n_splits=4, shuffle=True, random_state=1)\n",
    "    \n",
    "    score_func = {\n",
    "        'custom_rmse':make_scorer(RMSE)\n",
    "    }\n",
    "    \n",
    "    scores = cross_validate(model, X=X, y=y, cv=kf, scoring=score_func)\n",
    "    \n",
    "    #model.fit(X=X_train, y=Y_train)\n",
    "    #Y_pred = model.predict(X_valid)\n",
    "    #scores = np.sqrt(MSE(y_true=Y_valid, y_pred=Y_pred))\n",
    "    #print(f'params: {params}, scores:{scores:.4f}')\n",
    "    \n",
    "    history.append((model, scores))\n",
    "    \n",
    "    return {'loss':scores['test_custom_rmse'].mean(), 'status':STATUS_OK, 'params':args}"
   ]
  },
  {
   "cell_type": "code",
   "execution_count": 48,
   "metadata": {},
   "outputs": [
    {
     "name": "stdout",
     "output_type": "stream",
     "text": [
      "100%|████████████████████████████████████████████████| 10/10 [00:00<00:00, 27.47trial/s, best loss: 7.5492759834531595]\n"
     ]
    }
   ],
   "source": [
    "history = []\n",
    "#best = []\n",
    "\n",
    "X = train.drop(['id', 'mpg'], axis=1)\n",
    "y = train['mpg']\n",
    "\n",
    "f = partial(score, X, y)\n",
    "\n",
    "param_space = {\n",
    "    'C': hp.loguniform(\n",
    "        label='C', low=np.log(1e-8), high=np.log(1.0)\n",
    "    ),\n",
    "    'gamma': hp.loguniform(\n",
    "        label='gamma', low=np.log(1e-8), high=np.log(1.0)\n",
    "    ),\n",
    "    'epsilon':hp.loguniform(\n",
    "        label='epsilon', low=np.log(1e-8), high=np.log(1)\n",
    "    )\n",
    "}\n",
    "\n",
    "trials=Trials()\n",
    "\n",
    "best = fmin(\n",
    "    fn=f,\n",
    "    space=param_space, \n",
    "    algo=tpe.suggest,\n",
    "    max_evals=10,\n",
    "    trials=trials\n",
    ")\n",
    "\n",
    "#history = sorted(history, key=lambda tpl:tpl[1])\n",
    "#best.append(history[0])"
   ]
  },
  {
   "cell_type": "code",
   "execution_count": 47,
   "metadata": {},
   "outputs": [
    {
     "name": "stdout",
     "output_type": "stream",
     "text": [
      "No. 0\n",
      "[7.62930038 7.27042254 7.62921693 8.13047661] 7.664854114361842\n",
      "No. 1\n",
      "[7.62928174 7.27039984 7.62920581 8.13044223] 7.664832404819318\n",
      "No. 2\n",
      "[7.62930142 7.27042333 7.62921772 8.13047743] 7.664854976280326\n",
      "No. 3\n",
      "[7.68646867 7.27231471 7.62871899 8.01608581] 7.650897045423447\n",
      "No. 4\n",
      "[7.62709414 7.26899539 7.62772576 8.12947995] 7.663323808427185\n",
      "No. 5\n",
      "[7.62927904 7.27040384 7.6291995  8.12937953] 7.664565477390157\n",
      "No. 6\n",
      "[7.6916385  7.26990785 7.62835752 8.00741362] 7.649329372425033\n",
      "No. 7\n",
      "[7.61874197 7.25489565 7.61675462 8.11314473] 7.650884243040471\n",
      "No. 8\n",
      "[7.60844486 7.24847908 7.60904611 8.10296954] 7.642234899375499\n",
      "No. 9\n",
      "[6.21266287 6.0720885  7.01908204 6.50982628] 6.45341492159718\n"
     ]
    }
   ],
   "source": [
    "for i, hist_i in enumerate(history):\n",
    "    print(\"No.\", i)\n",
    "    print(hist_i[1]['test_custom_rmse'], hist_i[1]['test_custom_rmse'].mean())"
   ]
  },
  {
   "cell_type": "code",
   "execution_count": 49,
   "metadata": {},
   "outputs": [
    {
     "name": "stdout",
     "output_type": "stream",
     "text": [
      "best parameters: {'C': 0.006707078999822721, 'epsilon': 0.00018687194961404454, 'gamma': 5.1188685526163025e-06}\n"
     ]
    }
   ],
   "source": [
    "# 結果を出力する\n",
    "print('best parameters:', space_eval(param_space, best))"
   ]
  },
  {
   "cell_type": "code",
   "execution_count": 50,
   "metadata": {},
   "outputs": [],
   "source": [
    "# 探索過程を可視化する\n",
    "xs = [result['params']['C'] for result in trials.results]\n",
    "ys = [result['params']['gamma'] for result in trials.results]\n",
    "zs = np.array([-1 * result['loss'] for result in trials.results])\n",
    "s_zs = (zs - zs.min()) / (zs.max() - zs.min()) # 0 ~ 1 の範囲に正規化する"
   ]
  },
  {
   "cell_type": "code",
   "execution_count": 13,
   "metadata": {},
   "outputs": [
    {
     "name": "stderr",
     "output_type": "stream",
     "text": [
      "findfont: Font family ['TakaoPGothic'] not found. Falling back to DejaVu Sans.\n"
     ]
    },
    {
     "data": {
      "image/png": "[encoded data removed]",
      "text/plain": [
       "<Figure size 432x288 with 2 Axes>"
      ]
     },
     "metadata": {
      "needs_background": "light"
     },
     "output_type": "display_data"
    },
    {
     "name": "stdout",
     "output_type": "stream",
     "text": [
      "-- accuracy summary --\n",
      "count    10.000000\n",
      "mean      0.073950\n",
      "std       0.000338\n",
      "min       0.073037\n",
      "25%       0.074008\n",
      "50%       0.074089\n",
      "75%       0.074116\n",
      "max       0.074117\n",
      "dtype: float64\n"
     ]
    }
   ],
   "source": [
    "# プロットする\n",
    "sc = plt.scatter(xs, ys, c=s_zs, s=20, zorder=10, cmap=cm.cool)\n",
    "plt.colorbar(sc)\n",
    "\n",
    "plt.xlabel('C')\n",
    "plt.xscale('log')\n",
    "plt.ylabel('gamma')\n",
    "plt.yscale('log')\n",
    "plt.grid()\n",
    "plt.show()\n",
    "\n",
    "print('-- accuracy summary --')\n",
    "print(pd.Series(np.array(zs).ravel()).describe())"
   ]
  },
  {
   "cell_type": "code",
   "execution_count": null,
   "metadata": {},
   "outputs": [],
   "source": []
  }
 ],
 "metadata": {
  "kernelspec": {
   "display_name": "Environment (conda_ml)",
   "language": "python",
   "name": "conda_ml"
  },
  "language_info": {
   "codemirror_mode": {
    "name": "ipython",
    "version": 3
   },
   "file_extension": ".py",
   "mimetype": "text/x-python",
   "name": "python",
   "nbconvert_exporter": "python",
   "pygments_lexer": "ipython3",
   "version": "3.7.7"
  }
 },
 "nbformat": 4,
 "nbformat_minor": 4
}
