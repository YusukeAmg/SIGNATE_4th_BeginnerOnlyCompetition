{
 "cells": [
  {
   "cell_type": "markdown",
   "metadata": {},
   "source": [
    "reference:\n",
    "https://blog.amedama.jp/entry/hyperopt"
   ]
  },
  {
   "cell_type": "code",
   "execution_count": 1,
   "metadata": {},
   "outputs": [
    {
     "name": "stderr",
     "output_type": "stream",
     "text": [
      "D:\\app-data\\miniconda-dir\\envs\\ml\\lib\\site-packages\\sklearn\\utils\\deprecation.py:143: FutureWarning: The sklearn.metrics.scorer module is  deprecated in version 0.22 and will be removed in version 0.24. The corresponding classes / functions should instead be imported from sklearn.metrics. Anything that cannot be imported from sklearn.metrics is now part of the private API.\n",
      "  warnings.warn(message, FutureWarning)\n",
      "D:\\app-data\\miniconda-dir\\envs\\ml\\lib\\site-packages\\sklearn\\utils\\deprecation.py:143: FutureWarning: The sklearn.feature_selection.base module is  deprecated in version 0.22 and will be removed in version 0.24. The corresponding classes / functions should instead be imported from sklearn.feature_selection. Anything that cannot be imported from sklearn.feature_selection is now part of the private API.\n",
      "  warnings.warn(message, FutureWarning)\n"
     ]
    }
   ],
   "source": [
    "# basic\n",
    "import numpy as np\n",
    "import pandas as pd\n",
    "\n",
    "# plot\n",
    "import seaborn as sns\n",
    "from matplotlib import cm\n",
    "import matplotlib.pyplot as plt\n",
    "import pprint\n",
    "\n",
    "# model\n",
    "from sklearn.metrics import accuracy_score\n",
    "from sklearn.svm import SVR\n",
    "\n",
    "# optimization\n",
    "from functools import partial\n",
    "from sklearn.model_selection import KFold\n",
    "from hyperopt import fmin, tpe, hp, STATUS_OK, Trials, space_eval\n",
    "from sklearn.model_selection import cross_validate\n",
    "from sklearn.metrics import make_scorer\n",
    "from sklearn.metrics import mean_squared_error as MSE\n",
    "\n",
    "# importance\n",
    "import eli5\n",
    "from eli5.sklearn import PermutationImportance\n",
    "\n",
    "# other\n",
    "import pickle\n",
    "import time\n",
    "import datetime"
   ]
  },
  {
   "cell_type": "code",
   "execution_count": 2,
   "metadata": {},
   "outputs": [],
   "source": [
    "train = pd.read_pickle('../features/feature_train_2020-11-07-08-04-37_treated.pkl')\n",
    "test = pd.read_pickle('../features/feature_test_2020-11-07-08-04-37_treated.pkl')\n",
    "sample_sub = pd.read_csv('../data/input/sample_submit.csv', header=None, names=['id', 'mpg'])\n",
    "\n",
    "train_X = train.drop(['id', 'mpg'], axis=1)\n",
    "train_y = train['mpg']"
   ]
  },
  {
   "cell_type": "code",
   "execution_count": 3,
   "metadata": {},
   "outputs": [],
   "source": [
    "def RMSE(y_true, y_pred):\n",
    "    return(np.sqrt(MSE(y_true, y_pred)))\n",
    "\n",
    "def objective(X, y, args):\n",
    "    model = SVR(**args)\n",
    "    \n",
    "    kf = KFold(n_splits=4, shuffle=True, random_state=1)\n",
    "    \n",
    "    score_func = {\n",
    "        'score':make_scorer(RMSE)\n",
    "    }\n",
    "    \n",
    "    cv_result = cross_validate(model, X=X, y=y, cv=kf, return_estimator=True, scoring=score_func)\n",
    "    #models.append(cv_result['estimator'])\n",
    "    \n",
    "    return {\n",
    "        'loss':cv_result['test_score'].mean(),\n",
    "        'status':STATUS_OK,\n",
    "        'params':args\n",
    "    }"
   ]
  },
  {
   "cell_type": "code",
   "execution_count": 25,
   "metadata": {},
   "outputs": [
    {
     "name": "stdout",
     "output_type": "stream",
     "text": [
      "100%|███████████████████████████████████████████████| 100/100 [00:04<00:00, 21.23trial/s, best loss: 4.805701649449387]\n",
      "{'C': 9.943643156757906,\n",
      " 'epsilon': 8.602984068278596e-06,\n",
      " 'gamma': 0.00020330170101844823,\n",
      " 'kernel': 'rbf'}\n"
     ]
    }
   ],
   "source": [
    "#models = []\n",
    "\n",
    "f = partial(objective, train_X, train_y)\n",
    "\n",
    "param_space = {\n",
    "    'kernel': 'rbf',\n",
    "    'C': hp.loguniform(\n",
    "        label='C', low=np.log(1e-8), high=np.log(10)\n",
    "    ),\n",
    "    'gamma': hp.loguniform(\n",
    "        label='gamma', low=np.log(1e-8), high=np.log(10)\n",
    "    ),\n",
    "    'epsilon':hp.loguniform(\n",
    "        label='epsilon', low=np.log(1e-8), high=np.log(10)\n",
    "    )\n",
    "}\n",
    "\n",
    "trials=Trials()\n",
    "\n",
    "best = fmin(\n",
    "    fn=f,\n",
    "    space=param_space, \n",
    "    algo=tpe.suggest,\n",
    "    max_evals=100,\n",
    "    trials=trials\n",
    ")\n",
    "\n",
    "pprint.pprint(space_eval(param_space, best))"
   ]
  },
  {
   "cell_type": "code",
   "execution_count": 29,
   "metadata": {},
   "outputs": [
    {
     "name": "stdout",
     "output_type": "stream",
     "text": [
      "[(4.805701649449387,\n",
      "  {'C': 9.943643156757906,\n",
      "   'epsilon': 8.602984068278596e-06,\n",
      "   'gamma': 0.00020330170101844823,\n",
      "   'kernel': 'rbf'}),\n",
      " (4.819190167693782,\n",
      "  {'C': 9.34974983181217,\n",
      "   'epsilon': 4.578981870553606e-05,\n",
      "   'gamma': 0.00010178740289341441,\n",
      "   'kernel': 'rbf'}),\n",
      " (4.829133848529684,\n",
      "  {'C': 6.396433932812694,\n",
      "   'epsilon': 1.0257916855402674e-05,\n",
      "   'gamma': 0.00022694861815045512,\n",
      "   'kernel': 'rbf'}),\n",
      " (4.830618023618165,\n",
      "  {'C': 6.848223474627872,\n",
      "   'epsilon': 1.7938268111034195e-05,\n",
      "   'gamma': 0.0002511596567966114,\n",
      "   'kernel': 'rbf'}),\n",
      " (4.912351963902501,\n",
      "  {'C': 5.079947893497635,\n",
      "   'epsilon': 8.373561177916827e-07,\n",
      "   'gamma': 7.555862275228404e-05,\n",
      "   'kernel': 'rbf'})]\n"
     ]
    }
   ],
   "source": [
    "result = [(i['loss'], i['params']) for i in trials.results]\n",
    "result.sort()\n",
    "pprint.pprint(result[:5])"
   ]
  },
  {
   "cell_type": "code",
   "execution_count": 23,
   "metadata": {},
   "outputs": [],
   "source": [
    "param_C = [result['params']['C'] for result in trials.results]\n",
    "param_gamma = [result['params']['gamma'] for result in trials.results]\n",
    "param_epsilon = [result['params']['epsilon'] for result in trials.results]\n",
    "scores = np.array([result['loss'] for result in trials.results])"
   ]
  },
  {
   "cell_type": "code",
   "execution_count": 24,
   "metadata": {},
   "outputs": [
    {
     "name": "stderr",
     "output_type": "stream",
     "text": [
      "findfont: Font family ['TakaoPGothic'] not found. Falling back to DejaVu Sans.\n"
     ]
    },
    {
     "data": {
      "image/png": "[encoded data removed]",
      "text/plain": [
       "<Figure size 432x288 with 1 Axes>"
      ]
     },
     "metadata": {
      "needs_background": "light"
     },
     "output_type": "display_data"
    }
   ],
   "source": [
    "plt.scatter(param_C, scores)\n",
    "plt.xlabel('C')\n",
    "plt.ylabel('score')\n",
    "plt.grid()\n",
    "plt.show()"
   ]
  },
  {
   "cell_type": "code",
   "execution_count": 25,
   "metadata": {},
   "outputs": [
    {
     "data": {
      "image/png": "[encoded data removed]",
      "text/plain": [
       "<Figure size 432x288 with 1 Axes>"
      ]
     },
     "metadata": {
      "needs_background": "light"
     },
     "output_type": "display_data"
    }
   ],
   "source": [
    "plt.scatter(param_gamma, scores)\n",
    "plt.xlabel('gamma')\n",
    "plt.ylabel('score')\n",
    "plt.grid()\n",
    "plt.show()"
   ]
  },
  {
   "cell_type": "code",
   "execution_count": 26,
   "metadata": {},
   "outputs": [
    {
     "data": {
      "image/png": "[encoded data removed]",
      "text/plain": [
       "<Figure size 432x288 with 1 Axes>"
      ]
     },
     "metadata": {
      "needs_background": "light"
     },
     "output_type": "display_data"
    }
   ],
   "source": [
    "plt.scatter(param_epsilon, scores)\n",
    "plt.xlabel('epsilon')\n",
    "plt.ylabel('score')\n",
    "plt.grid()\n",
    "plt.show()"
   ]
  },
  {
   "cell_type": "code",
   "execution_count": null,
   "metadata": {},
   "outputs": [],
   "source": []
  }
 ],
 "metadata": {
  "kernelspec": {
   "display_name": "Environment (conda_ml)",
   "language": "python",
   "name": "conda_ml"
  },
  "language_info": {
   "codemirror_mode": {
    "name": "ipython",
    "version": 3
   },
   "file_extension": ".py",
   "mimetype": "text/x-python",
   "name": "python",
   "nbconvert_exporter": "python",
   "pygments_lexer": "ipython3",
   "version": "3.7.7"
  }
 },
 "nbformat": 4,
 "nbformat_minor": 4
}
