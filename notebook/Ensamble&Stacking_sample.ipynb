{
 "cells": [
  {
   "cell_type": "code",
   "execution_count": 258,
   "metadata": {},
   "outputs": [
    {
     "data": {
      "text/html": [
       "        <script type=\"text/javascript\">\n",
       "        window.PlotlyConfig = {MathJaxConfig: 'local'};\n",
       "        if (window.MathJax) {MathJax.Hub.Config({SVG: {font: \"STIX-Web\"}});}\n",
       "        if (typeof require !== 'undefined') {\n",
       "        require.undef(\"plotly\");\n",
       "        requirejs.config({\n",
       "            paths: {\n",
       "                'plotly': ['https://cdn.plot.ly/plotly-latest.min']\n",
       "            }\n",
       "        });\n",
       "        require(['plotly'], function(Plotly) {\n",
       "            window._Plotly = Plotly;\n",
       "        });\n",
       "        }\n",
       "        </script>\n",
       "        "
      ]
     },
     "metadata": {},
     "output_type": "display_data"
    }
   ],
   "source": [
    "import pandas as pd\n",
    "import numpy as np\n",
    "import re\n",
    "import sklearn\n",
    "import xgboost as xgb # 勾配ブースティング\n",
    "import seaborn as sns # オシャレなグラフ\n",
    "import matplotlib.pyplot as plt\n",
    "%matplotlib inline\n",
    "\n",
    "import plotly.offline as py\n",
    "py.init_notebook_mode(connected=True)\n",
    "import plotly.graph_objs as go\n",
    "import plotly.tools as tls\n",
    "\n",
    "import warnings\n",
    "warnings.filterwarnings('ignore')\n",
    "\n",
    "from sklearn.preprocessing import LabelEncoder\n",
    "\n",
    "# Going to use these 5 base models for the stacking\n",
    "from sklearn.ensemble import GradientBoostingRegressor\n",
    "import xgboost as xgb\n",
    "from sklearn.svm import SVR\n",
    "from sklearn.model_selection import KFold\n",
    "\n",
    "import datetime"
   ]
  },
  {
   "cell_type": "code",
   "execution_count": 186,
   "metadata": {},
   "outputs": [],
   "source": [
    "train = pd.read_csv('../data/input/train.csv')\n",
    "test = pd.read_csv('../data/input/test.csv')\n",
    "sample_sub = pd.read_csv('../data/input/sample_submit.csv', header=None, names=['id', 'mpg'])\n",
    "\n",
    "train_test = pd.concat([train, test], ignore_index=True, sort=False)"
   ]
  },
  {
   "cell_type": "markdown",
   "metadata": {},
   "source": [
    "# Preprocessing"
   ]
  },
  {
   "cell_type": "markdown",
   "metadata": {},
   "source": [
    "## car name, car brand"
   ]
  },
  {
   "cell_type": "code",
   "execution_count": 187,
   "metadata": {},
   "outputs": [],
   "source": [
    "train_test['car name'] = train_test['car name'].str.replace('vw', 'volkswagen')\n",
    "train_test['car name'] = train_test['car name'].str.replace('vokswagen', 'volkswagen')\n",
    "train_test['car name'] = train_test['car name'].str.replace('toyouta', 'toyota')\n",
    "train_test['car name'] = train_test['car name'].str.replace('chevy', 'chevrolet')\n",
    "train_test['car name'] = train_test['car name'].str.replace('datsun 200-sx', 'datsun 200sx')\n",
    "\n",
    "train_test['car name'] = train_test['car name'].str.replace('datsun 210 mpg', 'datsun 210')\n",
    "train_test['car name'] = train_test['car name'].str.replace('ford gran torino (sw)', 'ford gran torino')"
   ]
  },
  {
   "cell_type": "code",
   "execution_count": 188,
   "metadata": {},
   "outputs": [],
   "source": [
    "train_test['car_brand'] = train_test['car name'].apply(lambda x: x.strip().split(' ')[0])"
   ]
  },
  {
   "cell_type": "markdown",
   "metadata": {},
   "source": [
    "## horse power"
   ]
  },
  {
   "cell_type": "code",
   "execution_count": 189,
   "metadata": {},
   "outputs": [],
   "source": [
    "train_test['horsepower'].replace('?', np.nan, inplace=True)\n",
    "train_test['horsepower'] = train_test['horsepower'].astype(float)"
   ]
  },
  {
   "cell_type": "code",
   "execution_count": 190,
   "metadata": {},
   "outputs": [],
   "source": [
    "# car name毎のhorse powerの平均値を計算(nanは計算外)\n",
    "name_hp_mean = train_test.groupby('car name').horsepower.mean()\n",
    "df_hp_isnull = train_test[train_test['horsepower'].isnull()]\n",
    "\n",
    "# nan位置のtrainデータのhorse powerを置換する\n",
    "for i in df_hp_isnull.index:\n",
    "    train_test.loc[i, 'horsepower'] = name_hp_mean[df_hp_isnull.loc[i, 'car name']]\n",
    "    \n",
    "del df_hp_isnull, name_hp_mean"
   ]
  },
  {
   "cell_type": "markdown",
   "metadata": {},
   "source": [
    "# Encoding"
   ]
  },
  {
   "cell_type": "code",
   "execution_count": 191,
   "metadata": {},
   "outputs": [],
   "source": [
    "cat_cols = ['car name', 'car_brand']\n",
    "for cols in cat_cols:\n",
    "    train_test[cols] = LabelEncoder().fit_transform(train_test[cols])\n",
    "\n",
    "del cat_cols"
   ]
  },
  {
   "cell_type": "code",
   "execution_count": 192,
   "metadata": {},
   "outputs": [],
   "source": [
    "test = train_test[train_test['mpg'].isnull()].copy()\n",
    "train = train_test.dropna(subset=['mpg'], axis=0).copy()"
   ]
  },
  {
   "cell_type": "markdown",
   "metadata": {},
   "source": [
    "# Ensembling & Stacking"
   ]
  },
  {
   "cell_type": "code",
   "execution_count": 193,
   "metadata": {},
   "outputs": [],
   "source": [
    "# 入力データの作成\n",
    "y_train = train['mpg']\n",
    "train = train.drop(['id', 'mpg'], axis=1)\n",
    "test = test.drop(['id', 'mpg'], axis=1)\n",
    "\n",
    "x_train = train.values # 学習データ\n",
    "x_test = test.values # テストデータ\n",
    "\n",
    "# パラメータ\n",
    "ntrain = train.shape[0]\n",
    "ntest = test.shape[0]\n",
    "SEED = 0\n",
    "NFOLDS = 5 # 5分割\n",
    "kf = KFold(n_splits= NFOLDS, random_state=SEED)"
   ]
  },
  {
   "cell_type": "code",
   "execution_count": 136,
   "metadata": {},
   "outputs": [],
   "source": [
    "# 各モデルのパラメータ\n",
    "# Gradient Boosting\n",
    "gb_params = {\n",
    "    'n_estimators': 500,\n",
    "     #'max_features': 0.2,\n",
    "    'max_depth': 5,\n",
    "    'min_samples_leaf': 2,\n",
    "    'verbose': 0\n",
    "}\n",
    "\n",
    "# Support Vector Classifier \n",
    "svr_params = {\n",
    "    'kernel' : 'rbf',\n",
    "    'C' : 0.025\n",
    "    }"
   ]
  },
  {
   "cell_type": "code",
   "execution_count": 228,
   "metadata": {},
   "outputs": [
    {
     "name": "stdout",
     "output_type": "stream",
     "text": [
      "svr_oof_train (500,)\n",
      "svr_oof_test (500,)\n"
     ]
    }
   ],
   "source": [
    "svr_oof_train = np.zeros((ntrain,))\n",
    "svr_oof_test = np.zeros((ntest,))\n",
    "svr_oof_test_skf = np.empty((NFOLDS, ntest))\n",
    "\n",
    "clf = SVR(**svr_params)\n",
    "\n",
    "for i, (train_index, valid_index) in enumerate(kf.split(train)): # NFOLDS回まわる\n",
    "    x_tr = train.loc[train_index]\n",
    "    y_tr = y_train[train_index]\n",
    "    x_va = train.loc[valid_index]\n",
    "\n",
    "    clf.fit(x_tr, y_tr)\n",
    "\n",
    "    svr_oof_train[valid_index] = clf.predict(x_va)# 各validationの予測結果\n",
    "    svr_oof_test_skf[i, :] = clf.predict(test)\n",
    "\n",
    "svr_oof_test[:] = svr_oof_test_skf.mean(axis=0)# 各Foldでテストデータを予測した結果\n",
    "\n",
    "svr_oof_train.reshape(-1,1)\n",
    "svr_oof_test.reshape(-1,1)\n",
    "print(\"svr_oof_train\", svr_oof_train.shape)\n",
    "print(\"svr_oof_test\", svr_oof_test.shape)"
   ]
  },
  {
   "cell_type": "code",
   "execution_count": 229,
   "metadata": {},
   "outputs": [
    {
     "name": "stdout",
     "output_type": "stream",
     "text": [
      "gb_oof_train (500,)\n",
      "gb_oof_test (500,)\n"
     ]
    }
   ],
   "source": [
    "gb_oof_train = np.zeros((ntrain,))\n",
    "gb_oof_test = np.zeros((ntest,))\n",
    "gb_oof_test_skf = np.empty((NFOLDS, ntest))\n",
    "\n",
    "clf = GradientBoostingRegressor(**gb_params)\n",
    "\n",
    "for i, (train_index, valid_index) in enumerate(kf.split(train)): # NFOLDS回まわる\n",
    "    x_tr = train.loc[train_index]\n",
    "    y_tr = y_train[train_index]\n",
    "    x_va = train.loc[valid_index]\n",
    "\n",
    "    clf.fit(x_tr, y_tr)\n",
    "\n",
    "    gb_oof_train[valid_index] = clf.predict(x_va)# 各validationの予測結果\n",
    "    gb_oof_test_skf[i, :] = clf.predict(test)\n",
    "\n",
    "gb_oof_test[:] = gb_oof_test_skf.mean(axis=0)# 各Foldでテストデータを予測した結果\n",
    "\n",
    "gb_oof_train.reshape(-1,1)\n",
    "gb_oof_test.reshape(-1,1)\n",
    "print(\"gb_oof_train\", gb_oof_train.shape)\n",
    "print(\"gb_oof_test\", gb_oof_test.shape)"
   ]
  },
  {
   "cell_type": "markdown",
   "metadata": {},
   "source": [
    "# Second-Level Predictions"
   ]
  },
  {
   "cell_type": "code",
   "execution_count": 242,
   "metadata": {},
   "outputs": [
    {
     "data": {
      "text/html": [
       "<div>\n",
       "<style scoped>\n",
       "    .dataframe tbody tr th:only-of-type {\n",
       "        vertical-align: middle;\n",
       "    }\n",
       "\n",
       "    .dataframe tbody tr th {\n",
       "        vertical-align: top;\n",
       "    }\n",
       "\n",
       "    .dataframe thead th {\n",
       "        text-align: right;\n",
       "    }\n",
       "</style>\n",
       "<table border=\"1\" class=\"dataframe\">\n",
       "  <thead>\n",
       "    <tr style=\"text-align: right;\">\n",
       "      <th></th>\n",
       "      <th>GradientBoost</th>\n",
       "      <th>SupportVector</th>\n",
       "    </tr>\n",
       "  </thead>\n",
       "  <tbody>\n",
       "    <tr>\n",
       "      <th>0</th>\n",
       "      <td>21.344776</td>\n",
       "      <td>24.775204</td>\n",
       "    </tr>\n",
       "    <tr>\n",
       "      <th>1</th>\n",
       "      <td>16.608866</td>\n",
       "      <td>24.332946</td>\n",
       "    </tr>\n",
       "    <tr>\n",
       "      <th>2</th>\n",
       "      <td>17.766229</td>\n",
       "      <td>24.761386</td>\n",
       "    </tr>\n",
       "    <tr>\n",
       "      <th>3</th>\n",
       "      <td>25.616068</td>\n",
       "      <td>24.981840</td>\n",
       "    </tr>\n",
       "    <tr>\n",
       "      <th>4</th>\n",
       "      <td>17.570066</td>\n",
       "      <td>24.950765</td>\n",
       "    </tr>\n",
       "    <tr>\n",
       "      <th>...</th>\n",
       "      <td>...</td>\n",
       "      <td>...</td>\n",
       "    </tr>\n",
       "    <tr>\n",
       "      <th>495</th>\n",
       "      <td>28.523433</td>\n",
       "      <td>26.384334</td>\n",
       "    </tr>\n",
       "    <tr>\n",
       "      <th>496</th>\n",
       "      <td>36.693581</td>\n",
       "      <td>26.641894</td>\n",
       "    </tr>\n",
       "    <tr>\n",
       "      <th>497</th>\n",
       "      <td>17.659874</td>\n",
       "      <td>26.379574</td>\n",
       "    </tr>\n",
       "    <tr>\n",
       "      <th>498</th>\n",
       "      <td>28.538128</td>\n",
       "      <td>26.679394</td>\n",
       "    </tr>\n",
       "    <tr>\n",
       "      <th>499</th>\n",
       "      <td>28.250684</td>\n",
       "      <td>26.613476</td>\n",
       "    </tr>\n",
       "  </tbody>\n",
       "</table>\n",
       "<p>500 rows × 2 columns</p>\n",
       "</div>"
      ],
      "text/plain": [
       "     GradientBoost  SupportVector\n",
       "0        21.344776      24.775204\n",
       "1        16.608866      24.332946\n",
       "2        17.766229      24.761386\n",
       "3        25.616068      24.981840\n",
       "4        17.570066      24.950765\n",
       "..             ...            ...\n",
       "495      28.523433      26.384334\n",
       "496      36.693581      26.641894\n",
       "497      17.659874      26.379574\n",
       "498      28.538128      26.679394\n",
       "499      28.250684      26.613476\n",
       "\n",
       "[500 rows x 2 columns]"
      ]
     },
     "execution_count": 242,
     "metadata": {},
     "output_type": "execute_result"
    }
   ],
   "source": [
    "x_train = pd.DataFrame({\n",
    "    \"GradientBoost\": gb_oof_train.ravel(),\n",
    "    \"SupportVector\": svr_oof_train.ravel()\n",
    "})\n",
    "x_train"
   ]
  },
  {
   "cell_type": "code",
   "execution_count": 249,
   "metadata": {},
   "outputs": [
    {
     "data": {
      "text/html": [
       "<div>\n",
       "<style scoped>\n",
       "    .dataframe tbody tr th:only-of-type {\n",
       "        vertical-align: middle;\n",
       "    }\n",
       "\n",
       "    .dataframe tbody tr th {\n",
       "        vertical-align: top;\n",
       "    }\n",
       "\n",
       "    .dataframe thead th {\n",
       "        text-align: right;\n",
       "    }\n",
       "</style>\n",
       "<table border=\"1\" class=\"dataframe\">\n",
       "  <thead>\n",
       "    <tr style=\"text-align: right;\">\n",
       "      <th></th>\n",
       "      <th>GradientBoost</th>\n",
       "      <th>SupportVector</th>\n",
       "    </tr>\n",
       "  </thead>\n",
       "  <tbody>\n",
       "    <tr>\n",
       "      <th>0</th>\n",
       "      <td>35.870562</td>\n",
       "      <td>26.090603</td>\n",
       "    </tr>\n",
       "    <tr>\n",
       "      <th>1</th>\n",
       "      <td>28.385977</td>\n",
       "      <td>25.780799</td>\n",
       "    </tr>\n",
       "    <tr>\n",
       "      <th>2</th>\n",
       "      <td>27.844321</td>\n",
       "      <td>25.743488</td>\n",
       "    </tr>\n",
       "    <tr>\n",
       "      <th>3</th>\n",
       "      <td>34.674462</td>\n",
       "      <td>25.733766</td>\n",
       "    </tr>\n",
       "    <tr>\n",
       "      <th>4</th>\n",
       "      <td>22.879623</td>\n",
       "      <td>25.623459</td>\n",
       "    </tr>\n",
       "    <tr>\n",
       "      <th>...</th>\n",
       "      <td>...</td>\n",
       "      <td>...</td>\n",
       "    </tr>\n",
       "    <tr>\n",
       "      <th>495</th>\n",
       "      <td>28.420694</td>\n",
       "      <td>25.344253</td>\n",
       "    </tr>\n",
       "    <tr>\n",
       "      <th>496</th>\n",
       "      <td>29.124737</td>\n",
       "      <td>25.772707</td>\n",
       "    </tr>\n",
       "    <tr>\n",
       "      <th>497</th>\n",
       "      <td>18.211618</td>\n",
       "      <td>25.717196</td>\n",
       "    </tr>\n",
       "    <tr>\n",
       "      <th>498</th>\n",
       "      <td>27.263115</td>\n",
       "      <td>25.743488</td>\n",
       "    </tr>\n",
       "    <tr>\n",
       "      <th>499</th>\n",
       "      <td>41.910747</td>\n",
       "      <td>26.016173</td>\n",
       "    </tr>\n",
       "  </tbody>\n",
       "</table>\n",
       "<p>500 rows × 2 columns</p>\n",
       "</div>"
      ],
      "text/plain": [
       "     GradientBoost  SupportVector\n",
       "0        35.870562      26.090603\n",
       "1        28.385977      25.780799\n",
       "2        27.844321      25.743488\n",
       "3        34.674462      25.733766\n",
       "4        22.879623      25.623459\n",
       "..             ...            ...\n",
       "495      28.420694      25.344253\n",
       "496      29.124737      25.772707\n",
       "497      18.211618      25.717196\n",
       "498      27.263115      25.743488\n",
       "499      41.910747      26.016173\n",
       "\n",
       "[500 rows x 2 columns]"
      ]
     },
     "execution_count": 249,
     "metadata": {},
     "output_type": "execute_result"
    }
   ],
   "source": [
    "x_test = pd.DataFrame({\"GradientBoost\": gb_oof_test.tolist(), \"SupportVector\": svr_oof_test.tolist()})\n",
    "x_test"
   ]
  },
  {
   "cell_type": "code",
   "execution_count": 250,
   "metadata": {},
   "outputs": [],
   "source": [
    "gbm = xgb.XGBRegressor(\n",
    "    n_estimators=2000,\n",
    "    max_depth=4,\n",
    "    learning_rate=0.1,\n",
    "    min_child_weight=2,\n",
    "    gamma=0.9\n",
    ")\n",
    "gbm.fit(x_train, y_train)\n",
    "pred = gbm.predict(x_test)"
   ]
  },
  {
   "cell_type": "code",
   "execution_count": 256,
   "metadata": {},
   "outputs": [
    {
     "data": {
      "text/html": [
       "<div>\n",
       "<style scoped>\n",
       "    .dataframe tbody tr th:only-of-type {\n",
       "        vertical-align: middle;\n",
       "    }\n",
       "\n",
       "    .dataframe tbody tr th {\n",
       "        vertical-align: top;\n",
       "    }\n",
       "\n",
       "    .dataframe thead th {\n",
       "        text-align: right;\n",
       "    }\n",
       "</style>\n",
       "<table border=\"1\" class=\"dataframe\">\n",
       "  <thead>\n",
       "    <tr style=\"text-align: right;\">\n",
       "      <th></th>\n",
       "      <th>id</th>\n",
       "      <th>pred</th>\n",
       "    </tr>\n",
       "  </thead>\n",
       "  <tbody>\n",
       "    <tr>\n",
       "      <th>0</th>\n",
       "      <td>1</td>\n",
       "      <td>35.320442</td>\n",
       "    </tr>\n",
       "    <tr>\n",
       "      <th>1</th>\n",
       "      <td>2</td>\n",
       "      <td>32.382111</td>\n",
       "    </tr>\n",
       "    <tr>\n",
       "      <th>2</th>\n",
       "      <td>5</td>\n",
       "      <td>26.847887</td>\n",
       "    </tr>\n",
       "    <tr>\n",
       "      <th>3</th>\n",
       "      <td>6</td>\n",
       "      <td>39.124859</td>\n",
       "    </tr>\n",
       "    <tr>\n",
       "      <th>4</th>\n",
       "      <td>8</td>\n",
       "      <td>23.472961</td>\n",
       "    </tr>\n",
       "    <tr>\n",
       "      <th>...</th>\n",
       "      <td>...</td>\n",
       "      <td>...</td>\n",
       "    </tr>\n",
       "    <tr>\n",
       "      <th>495</th>\n",
       "      <td>992</td>\n",
       "      <td>31.460735</td>\n",
       "    </tr>\n",
       "    <tr>\n",
       "      <th>496</th>\n",
       "      <td>993</td>\n",
       "      <td>32.610085</td>\n",
       "    </tr>\n",
       "    <tr>\n",
       "      <th>497</th>\n",
       "      <td>996</td>\n",
       "      <td>18.743475</td>\n",
       "    </tr>\n",
       "    <tr>\n",
       "      <th>498</th>\n",
       "      <td>998</td>\n",
       "      <td>29.618065</td>\n",
       "    </tr>\n",
       "    <tr>\n",
       "      <th>499</th>\n",
       "      <td>999</td>\n",
       "      <td>44.341785</td>\n",
       "    </tr>\n",
       "  </tbody>\n",
       "</table>\n",
       "<p>500 rows × 2 columns</p>\n",
       "</div>"
      ],
      "text/plain": [
       "      id       pred\n",
       "0      1  35.320442\n",
       "1      2  32.382111\n",
       "2      5  26.847887\n",
       "3      6  39.124859\n",
       "4      8  23.472961\n",
       "..   ...        ...\n",
       "495  992  31.460735\n",
       "496  993  32.610085\n",
       "497  996  18.743475\n",
       "498  998  29.618065\n",
       "499  999  44.341785\n",
       "\n",
       "[500 rows x 2 columns]"
      ]
     },
     "metadata": {},
     "output_type": "display_data"
    }
   ],
   "source": [
    "submission = pd.DataFrame({'id':sample_sub.id})\n",
    "submission = pd.concat(\n",
    "    [submission, pd.Series(pred, name='pred')],\n",
    "    axis=1\n",
    ")\n",
    "display(submission)"
   ]
  },
  {
   "cell_type": "code",
   "execution_count": 259,
   "metadata": {},
   "outputs": [],
   "source": [
    "dt = datetime.datetime.now().strftime('%Y-%m-%d-%H-%M-%S')\n",
    "\n",
    "submission[['id', 'pred']].to_csv('../data/output/sub_' + dt + '_ensambl_gb_svr_xgb.csv', header=False, index=False)"
   ]
  },
  {
   "cell_type": "code",
   "execution_count": null,
   "metadata": {},
   "outputs": [],
   "source": []
  }
 ],
 "metadata": {
  "kernelspec": {
   "display_name": "Environment (conda_ml)",
   "language": "python",
   "name": "conda_ml"
  },
  "language_info": {
   "codemirror_mode": {
    "name": "ipython",
    "version": 3
   },
   "file_extension": ".py",
   "mimetype": "text/x-python",
   "name": "python",
   "nbconvert_exporter": "python",
   "pygments_lexer": "ipython3",
   "version": "3.7.7"
  }
 },
 "nbformat": 4,
 "nbformat_minor": 4
}
