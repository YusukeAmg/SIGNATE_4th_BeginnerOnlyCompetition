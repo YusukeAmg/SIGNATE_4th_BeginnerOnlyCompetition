{
 "cells": [
  {
   "cell_type": "code",
   "execution_count": 169,
   "metadata": {},
   "outputs": [],
   "source": [
    "import pandas as pd\n",
    "import numpy as np\n",
    "import pprint\n",
    "import matplotlib.pyplot as plt\n",
    "%matplotlib inline\n",
    "\n",
    "from sklearn.preprocessing import LabelEncoder, StandardScaler\n",
    "from sklearn.model_selection import KFold\n",
    "\n",
    "import lightgbm as lgb\n",
    "from sklearn.linear_model import LinearRegression\n",
    "from sklearn.svm import SVR\n",
    "\n",
    "from functools import partial\n",
    "from hyperopt import fmin, tpe, hp, STATUS_OK, Trials, space_eval\n",
    "from sklearn.model_selection import KFold, cross_validate\n",
    "from sklearn.metrics import mean_squared_error as MSE, make_scorer\n",
    "\n",
    "# importance\n",
    "import eli5\n",
    "from eli5.sklearn import PermutationImportance\n",
    "\n",
    "# other\n",
    "import pickle\n",
    "import time\n",
    "import datetime\n",
    "#import sys\n",
    "#import gc"
   ]
  },
  {
   "cell_type": "code",
   "execution_count": 179,
   "metadata": {},
   "outputs": [],
   "source": [
    "sample_sub = pd.read_csv('../data/input/sample_submit.csv', header=None, names=['id', 'mpg'])"
   ]
  },
  {
   "cell_type": "code",
   "execution_count": 138,
   "metadata": {},
   "outputs": [
    {
     "name": "stdout",
     "output_type": "stream",
     "text": [
      "SVR(C=9.961505666633057, epsilon=0.07917802484774836, gamma=0.07579803763426289)\n",
      "LGBMRegressor(alpha=2.696306116587096e-08, bagging_fraction=0.9500000000000001,\n",
      "              feature_fraction=0.6000000000000001, gamma=0.1,\n",
      "              lambda=0.47886902858405855, max_depth=7, min_child_weight=2.0,\n",
      "              min_data_in_leaf=6, num_leaves=30)\n"
     ]
    }
   ],
   "source": [
    "model_svr = pickle.load(open('../models/model_2020-11-14-10-53-25_svr.pickle', 'rb'))\n",
    "pprint.pprint(model_svr)\n",
    "model_lgb = pickle.load(open('../models/model_2020-11-14-09-20-22_lightgbm.pickle', 'rb'))\n",
    "pprint.pprint(model_lgb)"
   ]
  },
  {
   "cell_type": "code",
   "execution_count": 139,
   "metadata": {},
   "outputs": [],
   "source": [
    "train_svr = pickle.load(open('../features/feature_train_2020-11-14-10-53-25_svr.pkl', 'rb'))\n",
    "test_svr = pickle.load(open('../features/feature_test_2020-11-14-10-53-25_svr.pkl', 'rb'))\n",
    "test_svr = test_svr.drop(['id', 'mpg'], axis=1)\n",
    "\n",
    "train_lgb = pickle.load(open('../features/feature_train_2020-11-14-10-39-58_lgb.pkl', 'rb'))\n",
    "test_lgb = pickle.load(open('../features/feature_test_2020-11-14-10-39-58_lgb.pkl', 'rb'))\n",
    "test_lgb = test_lgb.drop(['id', 'mpg'], axis=1)"
   ]
  },
  {
   "cell_type": "code",
   "execution_count": 140,
   "metadata": {},
   "outputs": [],
   "source": [
    "train_x_svr = train_svr.drop(['id', 'mpg'], axis=1)\n",
    "train_x_lgb = train_lgb.drop(['id', 'mpg'], axis=1)\n",
    "train_y = train_lgb['mpg']"
   ]
  },
  {
   "cell_type": "code",
   "execution_count": 141,
   "metadata": {},
   "outputs": [],
   "source": [
    "def RMSE(y_true, y_pred):\n",
    "    return(np.sqrt(MSE(y_true, y_pred)))"
   ]
  },
  {
   "cell_type": "markdown",
   "metadata": {},
   "source": [
    "# Stacking"
   ]
  },
  {
   "cell_type": "code",
   "execution_count": 142,
   "metadata": {},
   "outputs": [],
   "source": [
    "ntrain = train_x.shape[0]\n",
    "ntest = test.shape[0]\n",
    "SEED = 0\n",
    "NFOLDS = 5"
   ]
  },
  {
   "cell_type": "code",
   "execution_count": 155,
   "metadata": {},
   "outputs": [],
   "source": [
    "def predict_cv(model, train_x, train_y, test_x):\n",
    "    preds = []\n",
    "    preds_test = []\n",
    "    va_idxes = []\n",
    "    \n",
    "    kf = KFold(n_splits=NFOLDS, shuffle=True, random_state=SEED)    \n",
    "    \n",
    "    for i, (tr_idx, va_idx) in enumerate(kf.split(train_x)):\n",
    "        tr_x, va_x = train_x.iloc[tr_idx], train_x.iloc[va_idx]\n",
    "        tr_y, va_y = train_y.iloc[tr_idx], train_y.iloc[va_idx]\n",
    "        \n",
    "        model.fit(tr_x, tr_y)\n",
    "        pred = model.predict(va_x)\n",
    "        preds.append(pred)\n",
    "        \n",
    "        pred_test = model.predict(test_x)\n",
    "        preds_test.append(pred_test)\n",
    "        \n",
    "        va_idxes.append(va_idx)\n",
    "    \n",
    "    va_idxes = np.concatenate(va_idxes)\n",
    "    preds = np.concatenate(preds, axis=0)\n",
    "    order = np.argsort(va_idxes)\n",
    "    pred_train = preds[order]\n",
    "    \n",
    "    preds_test = np.mean(preds_test, axis=0)\n",
    "    \n",
    "    return pred_train, preds_test"
   ]
  },
  {
   "cell_type": "code",
   "execution_count": 156,
   "metadata": {},
   "outputs": [],
   "source": [
    "pred_train_1a, pred_test_1a = predict_cv(model_lgb, train_x_lgb, train_y, test_lgb)\n",
    "pred_train_1b, pred_test_1b = predict_cv(model_svr, train_x_svr, train_y, test_svr)"
   ]
  },
  {
   "cell_type": "code",
   "execution_count": 191,
   "metadata": {},
   "outputs": [
    {
     "name": "stdout",
     "output_type": "stream",
     "text": [
      "model_1a(lgb) score: 2.9136\n",
      "model_1b(svr) score: 3.9382\n"
     ]
    }
   ],
   "source": [
    "score_1a = RMSE(train_y, pred_train_1a)\n",
    "score_1b = RMSE(train_y, pred_train_1b)\n",
    "print(f'model_1a(lgb) score: {score_1a:.4f}')\n",
    "print(f'model_1b(svr) score: {score_1b:.4f}')"
   ]
  },
  {
   "cell_type": "code",
   "execution_count": 173,
   "metadata": {},
   "outputs": [],
   "source": [
    "# 線形モデル\n",
    "class Model2Linear:\n",
    "\n",
    "    def __init__(self):\n",
    "        self.model = None\n",
    "        self.scaler = None\n",
    "\n",
    "    def fit(self, tr_x, tr_y):\n",
    "        self.scaler = StandardScaler()\n",
    "        self.scaler.fit(tr_x)\n",
    "        tr_x = self.scaler.transform(tr_x)\n",
    "        self.model = LinearRegression()\n",
    "        self.model.fit(tr_x, tr_y)\n",
    "\n",
    "    def predict(self, x):\n",
    "        x = self.scaler.transform(x)\n",
    "        pred = self.model.predict(x)\n",
    "        return pred"
   ]
  },
  {
   "cell_type": "code",
   "execution_count": 171,
   "metadata": {},
   "outputs": [],
   "source": [
    "# 予測値を特徴量としてデータフレームを作成\n",
    "train_x_2 = pd.DataFrame({'pred_1a': pred_train_1a, 'pred_1b': pred_train_1b})\n",
    "test_x_2 = pd.DataFrame({'pred_1a': pred_test_1a, 'pred_1b': pred_test_1b})"
   ]
  },
  {
   "cell_type": "code",
   "execution_count": 164,
   "metadata": {},
   "outputs": [
    {
     "data": {
      "text/html": [
       "<div>\n",
       "<style scoped>\n",
       "    .dataframe tbody tr th:only-of-type {\n",
       "        vertical-align: middle;\n",
       "    }\n",
       "\n",
       "    .dataframe tbody tr th {\n",
       "        vertical-align: top;\n",
       "    }\n",
       "\n",
       "    .dataframe thead th {\n",
       "        text-align: right;\n",
       "    }\n",
       "</style>\n",
       "<table border=\"1\" class=\"dataframe\">\n",
       "  <thead>\n",
       "    <tr style=\"text-align: right;\">\n",
       "      <th></th>\n",
       "      <th>pred_1a</th>\n",
       "      <th>pred_1b</th>\n",
       "    </tr>\n",
       "  </thead>\n",
       "  <tbody>\n",
       "    <tr>\n",
       "      <th>0</th>\n",
       "      <td>22.299399</td>\n",
       "      <td>23.309511</td>\n",
       "    </tr>\n",
       "    <tr>\n",
       "      <th>1</th>\n",
       "      <td>17.139813</td>\n",
       "      <td>17.297018</td>\n",
       "    </tr>\n",
       "    <tr>\n",
       "      <th>2</th>\n",
       "      <td>17.799807</td>\n",
       "      <td>17.682712</td>\n",
       "    </tr>\n",
       "    <tr>\n",
       "      <th>3</th>\n",
       "      <td>23.225657</td>\n",
       "      <td>24.450517</td>\n",
       "    </tr>\n",
       "    <tr>\n",
       "      <th>4</th>\n",
       "      <td>17.539948</td>\n",
       "      <td>17.488732</td>\n",
       "    </tr>\n",
       "    <tr>\n",
       "      <th>...</th>\n",
       "      <td>...</td>\n",
       "      <td>...</td>\n",
       "    </tr>\n",
       "    <tr>\n",
       "      <th>495</th>\n",
       "      <td>28.217359</td>\n",
       "      <td>27.648859</td>\n",
       "    </tr>\n",
       "    <tr>\n",
       "      <th>496</th>\n",
       "      <td>36.557854</td>\n",
       "      <td>30.978024</td>\n",
       "    </tr>\n",
       "    <tr>\n",
       "      <th>497</th>\n",
       "      <td>17.585631</td>\n",
       "      <td>17.774491</td>\n",
       "    </tr>\n",
       "    <tr>\n",
       "      <th>498</th>\n",
       "      <td>28.768540</td>\n",
       "      <td>28.481582</td>\n",
       "    </tr>\n",
       "    <tr>\n",
       "      <th>499</th>\n",
       "      <td>27.810948</td>\n",
       "      <td>24.547076</td>\n",
       "    </tr>\n",
       "  </tbody>\n",
       "</table>\n",
       "<p>500 rows × 2 columns</p>\n",
       "</div>"
      ],
      "text/plain": [
       "       pred_1a    pred_1b\n",
       "0    22.299399  23.309511\n",
       "1    17.139813  17.297018\n",
       "2    17.799807  17.682712\n",
       "3    23.225657  24.450517\n",
       "4    17.539948  17.488732\n",
       "..         ...        ...\n",
       "495  28.217359  27.648859\n",
       "496  36.557854  30.978024\n",
       "497  17.585631  17.774491\n",
       "498  28.768540  28.481582\n",
       "499  27.810948  24.547076\n",
       "\n",
       "[500 rows x 2 columns]"
      ]
     },
     "execution_count": 164,
     "metadata": {},
     "output_type": "execute_result"
    }
   ],
   "source": [
    "train_x_2"
   ]
  },
  {
   "cell_type": "code",
   "execution_count": 166,
   "metadata": {},
   "outputs": [
    {
     "data": {
      "text/html": [
       "<div>\n",
       "<style scoped>\n",
       "    .dataframe tbody tr th:only-of-type {\n",
       "        vertical-align: middle;\n",
       "    }\n",
       "\n",
       "    .dataframe tbody tr th {\n",
       "        vertical-align: top;\n",
       "    }\n",
       "\n",
       "    .dataframe thead th {\n",
       "        text-align: right;\n",
       "    }\n",
       "</style>\n",
       "<table border=\"1\" class=\"dataframe\">\n",
       "  <thead>\n",
       "    <tr style=\"text-align: right;\">\n",
       "      <th></th>\n",
       "      <th>pred_1a</th>\n",
       "      <th>pred_1b</th>\n",
       "    </tr>\n",
       "  </thead>\n",
       "  <tbody>\n",
       "    <tr>\n",
       "      <th>0</th>\n",
       "      <td>36.003875</td>\n",
       "      <td>35.822213</td>\n",
       "    </tr>\n",
       "    <tr>\n",
       "      <th>1</th>\n",
       "      <td>27.402928</td>\n",
       "      <td>25.384798</td>\n",
       "    </tr>\n",
       "    <tr>\n",
       "      <th>2</th>\n",
       "      <td>27.625162</td>\n",
       "      <td>27.287370</td>\n",
       "    </tr>\n",
       "    <tr>\n",
       "      <th>3</th>\n",
       "      <td>32.040457</td>\n",
       "      <td>27.251684</td>\n",
       "    </tr>\n",
       "    <tr>\n",
       "      <th>4</th>\n",
       "      <td>24.359053</td>\n",
       "      <td>23.253089</td>\n",
       "    </tr>\n",
       "    <tr>\n",
       "      <th>...</th>\n",
       "      <td>...</td>\n",
       "      <td>...</td>\n",
       "    </tr>\n",
       "    <tr>\n",
       "      <th>495</th>\n",
       "      <td>27.760863</td>\n",
       "      <td>24.634393</td>\n",
       "    </tr>\n",
       "    <tr>\n",
       "      <th>496</th>\n",
       "      <td>31.604547</td>\n",
       "      <td>24.234138</td>\n",
       "    </tr>\n",
       "    <tr>\n",
       "      <th>497</th>\n",
       "      <td>17.877298</td>\n",
       "      <td>18.413337</td>\n",
       "    </tr>\n",
       "    <tr>\n",
       "      <th>498</th>\n",
       "      <td>27.294498</td>\n",
       "      <td>27.287143</td>\n",
       "    </tr>\n",
       "    <tr>\n",
       "      <th>499</th>\n",
       "      <td>40.272990</td>\n",
       "      <td>38.087794</td>\n",
       "    </tr>\n",
       "  </tbody>\n",
       "</table>\n",
       "<p>500 rows × 2 columns</p>\n",
       "</div>"
      ],
      "text/plain": [
       "       pred_1a    pred_1b\n",
       "0    36.003875  35.822213\n",
       "1    27.402928  25.384798\n",
       "2    27.625162  27.287370\n",
       "3    32.040457  27.251684\n",
       "4    24.359053  23.253089\n",
       "..         ...        ...\n",
       "495  27.760863  24.634393\n",
       "496  31.604547  24.234138\n",
       "497  17.877298  18.413337\n",
       "498  27.294498  27.287143\n",
       "499  40.272990  38.087794\n",
       "\n",
       "[500 rows x 2 columns]"
      ]
     },
     "execution_count": 166,
     "metadata": {},
     "output_type": "execute_result"
    }
   ],
   "source": [
    "test_x_2"
   ]
  },
  {
   "cell_type": "code",
   "execution_count": 194,
   "metadata": {},
   "outputs": [
    {
     "name": "stdout",
     "output_type": "stream",
     "text": [
      "score: 2.9187\n"
     ]
    }
   ],
   "source": [
    "model_2 = Model2Linear()\n",
    "pred_train_2, pred_test_2 = predict_cv(model_2, train_x_2, train_y, test_x_2)\n",
    "score_2 = RMSE(train_y, pred_train_2)\n",
    "print(f'score: {score_2:.4f}')"
   ]
  },
  {
   "cell_type": "markdown",
   "metadata": {},
   "source": [
    "# Create Submission"
   ]
  },
  {
   "cell_type": "code",
   "execution_count": 186,
   "metadata": {},
   "outputs": [
    {
     "data": {
      "text/html": [
       "<div>\n",
       "<style scoped>\n",
       "    .dataframe tbody tr th:only-of-type {\n",
       "        vertical-align: middle;\n",
       "    }\n",
       "\n",
       "    .dataframe tbody tr th {\n",
       "        vertical-align: top;\n",
       "    }\n",
       "\n",
       "    .dataframe thead th {\n",
       "        text-align: right;\n",
       "    }\n",
       "</style>\n",
       "<table border=\"1\" class=\"dataframe\">\n",
       "  <thead>\n",
       "    <tr style=\"text-align: right;\">\n",
       "      <th></th>\n",
       "      <th>id</th>\n",
       "      <th>pred</th>\n",
       "    </tr>\n",
       "  </thead>\n",
       "  <tbody>\n",
       "    <tr>\n",
       "      <th>0</th>\n",
       "      <td>1</td>\n",
       "      <td>36.277695</td>\n",
       "    </tr>\n",
       "    <tr>\n",
       "      <th>1</th>\n",
       "      <td>2</td>\n",
       "      <td>27.140216</td>\n",
       "    </tr>\n",
       "    <tr>\n",
       "      <th>2</th>\n",
       "      <td>5</td>\n",
       "      <td>27.601084</td>\n",
       "    </tr>\n",
       "    <tr>\n",
       "      <th>3</th>\n",
       "      <td>6</td>\n",
       "      <td>31.549348</td>\n",
       "    </tr>\n",
       "    <tr>\n",
       "      <th>4</th>\n",
       "      <td>8</td>\n",
       "      <td>24.121488</td>\n",
       "    </tr>\n",
       "    <tr>\n",
       "      <th>...</th>\n",
       "      <td>...</td>\n",
       "      <td>...</td>\n",
       "    </tr>\n",
       "    <tr>\n",
       "      <th>495</th>\n",
       "      <td>992</td>\n",
       "      <td>27.357394</td>\n",
       "    </tr>\n",
       "    <tr>\n",
       "      <th>496</th>\n",
       "      <td>993</td>\n",
       "      <td>30.743689</td>\n",
       "    </tr>\n",
       "    <tr>\n",
       "      <th>497</th>\n",
       "      <td>996</td>\n",
       "      <td>17.651931</td>\n",
       "    </tr>\n",
       "    <tr>\n",
       "      <th>498</th>\n",
       "      <td>998</td>\n",
       "      <td>27.304997</td>\n",
       "    </tr>\n",
       "    <tr>\n",
       "      <th>499</th>\n",
       "      <td>999</td>\n",
       "      <td>40.411853</td>\n",
       "    </tr>\n",
       "  </tbody>\n",
       "</table>\n",
       "<p>500 rows × 2 columns</p>\n",
       "</div>"
      ],
      "text/plain": [
       "      id       pred\n",
       "0      1  36.277695\n",
       "1      2  27.140216\n",
       "2      5  27.601084\n",
       "3      6  31.549348\n",
       "4      8  24.121488\n",
       "..   ...        ...\n",
       "495  992  27.357394\n",
       "496  993  30.743689\n",
       "497  996  17.651931\n",
       "498  998  27.304997\n",
       "499  999  40.411853\n",
       "\n",
       "[500 rows x 2 columns]"
      ]
     },
     "metadata": {},
     "output_type": "display_data"
    }
   ],
   "source": [
    "dt = datetime.datetime.now().strftime('%Y-%m-%d-%H-%M-%S')\n",
    "submission = pd.DataFrame({'id':sample_sub.id})\n",
    "\n",
    "submission = pd.concat(\n",
    "    [submission, pd.Series(pred_test_2, name='pred')],\n",
    "    axis=1\n",
    ")\n",
    "\n",
    "display(submission)"
   ]
  },
  {
   "cell_type": "code",
   "execution_count": 200,
   "metadata": {},
   "outputs": [],
   "source": [
    "train_svr.to_pickle('../features/feature_train_' + dt + '_stack_1a.pickle')\n",
    "train_lgb.to_pickle('../features/feature_train_' + dt + '_stack_1b.pickle')\n",
    "train_x_2.to_pickle('../features/feature_train_' + dt + '_stack_2.pickle')\n",
    "test_svr.to_pickle('../features/feature_test_' + dt + '_stack_1a.pickle')\n",
    "test_lgb.to_pickle('../features/feature_test_' + dt + '_stack_1b.pickle')\n",
    "test_x_2.to_pickle('../features/feature_test_' + dt + '_stack_2.pickle')\n",
    "\n",
    "submission.to_csv('../data/output/sub_' + dt + '_stack_svr-lgb_lr.csv', header=False, index=False)\n",
    "\n",
    "pickle.dump(model_svr, open('../models/model_' + dt + '_stack_1a.pickle', 'wb'))\n",
    "pickle.dump(model_lgb, open('../models/model_' + dt + '_stack_1b.pickle', 'wb'))\n",
    "pickle.dump(model_2, open('../models/model_' + dt + '_stack_2.pickle', 'wb'))\n",
    "\n",
    "pickle.dump(model_svr.get_params(), open('../logs/params_' + dt + '_stack1a.pickle', 'wb'))\n",
    "pickle.dump(model_lgb.get_params(), open('../logs/params_' + dt + '_stack1b.pickle', 'wb'))\n",
    "\n",
    "pickle.dump(score_1a, open('../logs/train_score_' + dt + '_stack1a.pickle', 'wb'))\n",
    "pickle.dump(score_1b, open('../logs/train_score_' + dt + '_stack1b.pickle', 'wb'))\n",
    "pickle.dump(score_2, open('../logs/train_score_' + dt + '_stack2.pickle', 'wb'))"
   ]
  },
  {
   "cell_type": "code",
   "execution_count": null,
   "metadata": {},
   "outputs": [],
   "source": []
  }
 ],
 "metadata": {
  "kernelspec": {
   "display_name": "Environment (conda_ml)",
   "language": "python",
   "name": "conda_ml"
  },
  "language_info": {
   "codemirror_mode": {
    "name": "ipython",
    "version": 3
   },
   "file_extension": ".py",
   "mimetype": "text/x-python",
   "name": "python",
   "nbconvert_exporter": "python",
   "pygments_lexer": "ipython3",
   "version": "3.7.7"
  }
 },
 "nbformat": 4,
 "nbformat_minor": 4
}
