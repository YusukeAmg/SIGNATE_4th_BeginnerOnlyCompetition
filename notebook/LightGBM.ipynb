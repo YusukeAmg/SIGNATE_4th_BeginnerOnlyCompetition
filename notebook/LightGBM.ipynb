{
 "cells": [
  {
   "cell_type": "code",
   "execution_count": 1,
   "metadata": {},
   "outputs": [
    {
     "name": "stderr",
     "output_type": "stream",
     "text": [
      "D:\\app-data\\miniconda-dir\\envs\\ml\\lib\\site-packages\\sklearn\\utils\\deprecation.py:143: FutureWarning: The sklearn.metrics.scorer module is  deprecated in version 0.22 and will be removed in version 0.24. The corresponding classes / functions should instead be imported from sklearn.metrics. Anything that cannot be imported from sklearn.metrics is now part of the private API.\n",
      "  warnings.warn(message, FutureWarning)\n",
      "D:\\app-data\\miniconda-dir\\envs\\ml\\lib\\site-packages\\sklearn\\utils\\deprecation.py:143: FutureWarning: The sklearn.feature_selection.base module is  deprecated in version 0.22 and will be removed in version 0.24. The corresponding classes / functions should instead be imported from sklearn.feature_selection. Anything that cannot be imported from sklearn.feature_selection is now part of the private API.\n",
      "  warnings.warn(message, FutureWarning)\n"
     ]
    }
   ],
   "source": [
    "# basic\n",
    "import numpy as np\n",
    "import pandas as pd\n",
    "import pprint\n",
    "\n",
    "# plot\n",
    "#import seaborn as sns\n",
    "import matplotlib.pyplot as plt\n",
    "\n",
    "# preprocessing\n",
    "from sklearn.preprocessing import StandardScaler, LabelEncoder\n",
    "\n",
    "# model\n",
    "import lightgbm as lgb\n",
    "\n",
    "# optimization\n",
    "from functools import partial\n",
    "from hyperopt import fmin, tpe, hp, STATUS_OK, Trials, space_eval\n",
    "from sklearn.model_selection import KFold, cross_validate\n",
    "from sklearn.metrics import mean_squared_error as MSE, make_scorer\n",
    "\n",
    "# importance\n",
    "import eli5\n",
    "from eli5.sklearn import PermutationImportance\n",
    "\n",
    "# other\n",
    "import pickle\n",
    "import time\n",
    "import datetime\n",
    "#import sys\n",
    "#import gc"
   ]
  },
  {
   "cell_type": "code",
   "execution_count": 10,
   "metadata": {},
   "outputs": [],
   "source": [
    "train = pd.read_csv('../data/input/train.csv')\n",
    "test = pd.read_csv('../data/input/test.csv')\n",
    "sample_sub = pd.read_csv('../data/input/sample_submit.csv', header=None, names=['id', 'mpg'])\n",
    "\n",
    "train_test = pd.concat([train, test], ignore_index=True, sort=False)"
   ]
  },
  {
   "cell_type": "markdown",
   "metadata": {},
   "source": [
    "# Preprocessing"
   ]
  },
  {
   "cell_type": "markdown",
   "metadata": {},
   "source": [
    "## car name, car brand"
   ]
  },
  {
   "cell_type": "code",
   "execution_count": 11,
   "metadata": {},
   "outputs": [],
   "source": [
    "train_test['car name'] = train_test['car name'].str.replace('vw', 'volkswagen')\n",
    "train_test['car name'] = train_test['car name'].str.replace('vokswagen', 'volkswagen')\n",
    "train_test['car name'] = train_test['car name'].str.replace('toyouta', 'toyota')\n",
    "train_test['car name'] = train_test['car name'].str.replace('chevy', 'chevrolet')\n",
    "train_test['car name'] = train_test['car name'].str.replace('datsun 200-sx', 'datsun 200sx')\n",
    "\n",
    "train_test['car name'] = train_test['car name'].str.replace('datsun 210 mpg', 'datsun 210')\n",
    "train_test['car name'] = train_test['car name'].str.replace('ford gran torino (sw)', 'ford gran torino')"
   ]
  },
  {
   "cell_type": "code",
   "execution_count": 12,
   "metadata": {},
   "outputs": [],
   "source": [
    "train_test['car_brand'] = train_test['car name'].apply(lambda x: x.strip().split(' ')[0])"
   ]
  },
  {
   "cell_type": "markdown",
   "metadata": {},
   "source": [
    "## horse power"
   ]
  },
  {
   "cell_type": "code",
   "execution_count": 13,
   "metadata": {},
   "outputs": [],
   "source": [
    "train_test['horsepower'].replace('?', np.nan, inplace=True)\n",
    "train_test['horsepower'] = train_test['horsepower'].astype(float)"
   ]
  },
  {
   "cell_type": "code",
   "execution_count": 14,
   "metadata": {},
   "outputs": [],
   "source": [
    "# car name毎のhorse powerの平均値を計算(nanは計算外)\n",
    "name_hp_mean = train_test.groupby('car name').horsepower.mean()\n",
    "df_hp_isnull = train_test[train_test['horsepower'].isnull()]\n",
    "\n",
    "# nan位置のtrainデータのhorse powerを置換する\n",
    "for i in df_hp_isnull.index:\n",
    "    train_test.loc[i, 'horsepower'] = name_hp_mean[df_hp_isnull.loc[i, 'car name']]\n",
    "    \n",
    "del df_hp_isnull, name_hp_mean"
   ]
  },
  {
   "cell_type": "markdown",
   "metadata": {},
   "source": [
    "# Encoding"
   ]
  },
  {
   "cell_type": "markdown",
   "metadata": {},
   "source": [
    "# cat_cols = ['car name', 'car_brand']\n",
    "for cols in cat_cols:\n",
    "    train_test[cols] = LabelEncoder().fit_transform(train_test[cols])\n",
    "\n",
    "del cat_cols"
   ]
  },
  {
   "cell_type": "markdown",
   "metadata": {},
   "source": [
    "# Drop unimportant features"
   ]
  },
  {
   "cell_type": "code",
   "execution_count": 15,
   "metadata": {},
   "outputs": [
    {
     "data": {
      "text/html": [
       "<div>\n",
       "<style scoped>\n",
       "    .dataframe tbody tr th:only-of-type {\n",
       "        vertical-align: middle;\n",
       "    }\n",
       "\n",
       "    .dataframe tbody tr th {\n",
       "        vertical-align: top;\n",
       "    }\n",
       "\n",
       "    .dataframe thead th {\n",
       "        text-align: right;\n",
       "    }\n",
       "</style>\n",
       "<table border=\"1\" class=\"dataframe\">\n",
       "  <thead>\n",
       "    <tr style=\"text-align: right;\">\n",
       "      <th></th>\n",
       "      <th>id</th>\n",
       "      <th>mpg</th>\n",
       "      <th>cylinders</th>\n",
       "      <th>displacement</th>\n",
       "      <th>horsepower</th>\n",
       "      <th>weight</th>\n",
       "      <th>acceleration</th>\n",
       "      <th>model year</th>\n",
       "      <th>origin</th>\n",
       "    </tr>\n",
       "  </thead>\n",
       "  <tbody>\n",
       "    <tr>\n",
       "      <th>0</th>\n",
       "      <td>0</td>\n",
       "      <td>23.059782</td>\n",
       "      <td>6</td>\n",
       "      <td>140</td>\n",
       "      <td>110.0</td>\n",
       "      <td>2815</td>\n",
       "      <td>17.977429</td>\n",
       "      <td>80</td>\n",
       "      <td>1</td>\n",
       "    </tr>\n",
       "    <tr>\n",
       "      <th>1</th>\n",
       "      <td>3</td>\n",
       "      <td>17.674521</td>\n",
       "      <td>8</td>\n",
       "      <td>350</td>\n",
       "      <td>150.0</td>\n",
       "      <td>4456</td>\n",
       "      <td>13.514535</td>\n",
       "      <td>72</td>\n",
       "      <td>1</td>\n",
       "    </tr>\n",
       "    <tr>\n",
       "      <th>2</th>\n",
       "      <td>4</td>\n",
       "      <td>17.136353</td>\n",
       "      <td>8</td>\n",
       "      <td>302</td>\n",
       "      <td>140.0</td>\n",
       "      <td>2774</td>\n",
       "      <td>13.209912</td>\n",
       "      <td>79</td>\n",
       "      <td>1</td>\n",
       "    </tr>\n",
       "    <tr>\n",
       "      <th>3</th>\n",
       "      <td>7</td>\n",
       "      <td>22.664666</td>\n",
       "      <td>6</td>\n",
       "      <td>400</td>\n",
       "      <td>85.0</td>\n",
       "      <td>2190</td>\n",
       "      <td>15.196381</td>\n",
       "      <td>71</td>\n",
       "      <td>1</td>\n",
       "    </tr>\n",
       "    <tr>\n",
       "      <th>4</th>\n",
       "      <td>9</td>\n",
       "      <td>17.872018</td>\n",
       "      <td>8</td>\n",
       "      <td>429</td>\n",
       "      <td>220.0</td>\n",
       "      <td>2245</td>\n",
       "      <td>9.621400</td>\n",
       "      <td>70</td>\n",
       "      <td>1</td>\n",
       "    </tr>\n",
       "    <tr>\n",
       "      <th>...</th>\n",
       "      <td>...</td>\n",
       "      <td>...</td>\n",
       "      <td>...</td>\n",
       "      <td>...</td>\n",
       "      <td>...</td>\n",
       "      <td>...</td>\n",
       "      <td>...</td>\n",
       "      <td>...</td>\n",
       "      <td>...</td>\n",
       "    </tr>\n",
       "    <tr>\n",
       "      <th>995</th>\n",
       "      <td>992</td>\n",
       "      <td>NaN</td>\n",
       "      <td>4</td>\n",
       "      <td>225</td>\n",
       "      <td>105.0</td>\n",
       "      <td>3870</td>\n",
       "      <td>15.376311</td>\n",
       "      <td>76</td>\n",
       "      <td>1</td>\n",
       "    </tr>\n",
       "    <tr>\n",
       "      <th>996</th>\n",
       "      <td>993</td>\n",
       "      <td>NaN</td>\n",
       "      <td>4</td>\n",
       "      <td>140</td>\n",
       "      <td>112.0</td>\n",
       "      <td>2720</td>\n",
       "      <td>13.616843</td>\n",
       "      <td>82</td>\n",
       "      <td>1</td>\n",
       "    </tr>\n",
       "    <tr>\n",
       "      <th>997</th>\n",
       "      <td>996</td>\n",
       "      <td>NaN</td>\n",
       "      <td>8</td>\n",
       "      <td>318</td>\n",
       "      <td>110.0</td>\n",
       "      <td>2774</td>\n",
       "      <td>13.272636</td>\n",
       "      <td>75</td>\n",
       "      <td>1</td>\n",
       "    </tr>\n",
       "    <tr>\n",
       "      <th>998</th>\n",
       "      <td>998</td>\n",
       "      <td>NaN</td>\n",
       "      <td>4</td>\n",
       "      <td>90</td>\n",
       "      <td>75.0</td>\n",
       "      <td>2807</td>\n",
       "      <td>17.792560</td>\n",
       "      <td>77</td>\n",
       "      <td>1</td>\n",
       "    </tr>\n",
       "    <tr>\n",
       "      <th>999</th>\n",
       "      <td>999</td>\n",
       "      <td>NaN</td>\n",
       "      <td>4</td>\n",
       "      <td>90</td>\n",
       "      <td>69.0</td>\n",
       "      <td>2190</td>\n",
       "      <td>21.443561</td>\n",
       "      <td>72</td>\n",
       "      <td>2</td>\n",
       "    </tr>\n",
       "  </tbody>\n",
       "</table>\n",
       "<p>1000 rows × 9 columns</p>\n",
       "</div>"
      ],
      "text/plain": [
       "      id        mpg  cylinders  displacement  horsepower  weight  \\\n",
       "0      0  23.059782          6           140       110.0    2815   \n",
       "1      3  17.674521          8           350       150.0    4456   \n",
       "2      4  17.136353          8           302       140.0    2774   \n",
       "3      7  22.664666          6           400        85.0    2190   \n",
       "4      9  17.872018          8           429       220.0    2245   \n",
       "..   ...        ...        ...           ...         ...     ...   \n",
       "995  992        NaN          4           225       105.0    3870   \n",
       "996  993        NaN          4           140       112.0    2720   \n",
       "997  996        NaN          8           318       110.0    2774   \n",
       "998  998        NaN          4            90        75.0    2807   \n",
       "999  999        NaN          4            90        69.0    2190   \n",
       "\n",
       "     acceleration  model year  origin  \n",
       "0       17.977429          80       1  \n",
       "1       13.514535          72       1  \n",
       "2       13.209912          79       1  \n",
       "3       15.196381          71       1  \n",
       "4        9.621400          70       1  \n",
       "..            ...         ...     ...  \n",
       "995     15.376311          76       1  \n",
       "996     13.616843          82       1  \n",
       "997     13.272636          75       1  \n",
       "998     17.792560          77       1  \n",
       "999     21.443561          72       2  \n",
       "\n",
       "[1000 rows x 9 columns]"
      ]
     },
     "metadata": {},
     "output_type": "display_data"
    }
   ],
   "source": [
    "train_test.drop(['car name', 'car_brand'], axis=1, inplace=True)\n",
    "display(train_test)"
   ]
  },
  {
   "cell_type": "markdown",
   "metadata": {},
   "source": [
    "# Create Model"
   ]
  },
  {
   "cell_type": "code",
   "execution_count": 16,
   "metadata": {},
   "outputs": [],
   "source": [
    "test_treated = train_test[train_test['mpg'].isnull()].copy()\n",
    "train_treated = train_test.dropna(subset=['mpg'], axis=0).copy()\n",
    "\n",
    "train_X = train_treated.drop(['id', 'mpg'], axis=1)\n",
    "train_y = train_treated['mpg']\n",
    "\n",
    "#del train_test"
   ]
  },
  {
   "cell_type": "code",
   "execution_count": 17,
   "metadata": {},
   "outputs": [],
   "source": [
    "def RMSE(y_true, y_pred):\n",
    "    return(np.sqrt(MSE(y_true, y_pred)))\n",
    "\n",
    "def objective(X, y, args):\n",
    "    args['max_depth'] = int(args['max_depth'])\n",
    "    args['num_leaves'] = int(args['num_leaves'])\n",
    "    args['min_data_in_leaf'] = int(args['min_data_in_leaf'])\n",
    "    \n",
    "    model = lgb.LGBMRegressor(**args)\n",
    "    \n",
    "    kf = KFold(n_splits=4, shuffle=True, random_state=1)\n",
    "    \n",
    "    score_func = {\n",
    "        'score':make_scorer(RMSE)\n",
    "    }\n",
    "    \n",
    "    scores = cross_validate(model, X=X, y=y, cv=kf, return_estimator=True, scoring=score_func)\n",
    "    \n",
    "    #history.append((model, scores))\n",
    "    \n",
    "    return {\n",
    "        'loss':scores['test_score'].mean(),\n",
    "        'status':STATUS_OK,\n",
    "        'params':args\n",
    "    }"
   ]
  },
  {
   "cell_type": "code",
   "execution_count": 22,
   "metadata": {},
   "outputs": [
    {
     "name": "stdout",
     "output_type": "stream",
     "text": [
      "100%|█████████████████████████████████████████████| 1000/1000 [02:36<00:00,  6.38trial/s, best loss: 2.937446342084411]\n"
     ]
    }
   ],
   "source": [
    "# 変数候補すべてを最適化\n",
    "param_space = {\n",
    "    'alpha' : hp.loguniform(label='alpha', low=np.log(1e-8), high=np.log(1.0)),\n",
    "    'bagging_fraction': hp.quniform(label='bagging_fraction', low=0.6, high=0.95, q=0.05),\n",
    "    'feature_fraction': hp.quniform(label='feature_fraction', low=0.6, high=0.95, q=0.05),\n",
    "    'gamma': hp.quniform(label='gamma', low=0.1, high=0.3, q=0.1),\n",
    "    'lambda' : hp.loguniform(label='lambda', low=np.log(1e-6), high=np.log(10.0)),\n",
    "    'max_depth': hp.quniform(label='max_depth', low=3, high=9, q=1),\n",
    "    'min_child_weight': hp.quniform(label='min_child_weight', low=1, high=5, q=1),\n",
    "    'min_data_in_leaf': hp.quniform(label='min_data_in_leaf', low=5, high=20, q=2),\n",
    "    'num_leaves': hp.quniform(label='num_leaves', low=10, high=60, q=10)\n",
    "}\n",
    "\n",
    "#history = []\n",
    "\n",
    "f = partial(objective, train_X, train_y)\n",
    "trials=Trials()\n",
    "\n",
    "best = fmin(\n",
    "    fn=f,\n",
    "    space=param_space, \n",
    "    algo=tpe.suggest, \n",
    "    trials=trials,\n",
    "    max_evals=1000\n",
    ")"
   ]
  },
  {
   "cell_type": "code",
   "execution_count": 23,
   "metadata": {},
   "outputs": [
    {
     "data": {
      "text/html": [
       "<div>\n",
       "<style scoped>\n",
       "    .dataframe tbody tr th:only-of-type {\n",
       "        vertical-align: middle;\n",
       "    }\n",
       "\n",
       "    .dataframe tbody tr th {\n",
       "        vertical-align: top;\n",
       "    }\n",
       "\n",
       "    .dataframe thead th {\n",
       "        text-align: right;\n",
       "    }\n",
       "</style>\n",
       "<table border=\"1\" class=\"dataframe\">\n",
       "  <thead>\n",
       "    <tr style=\"text-align: right;\">\n",
       "      <th></th>\n",
       "      <th>loss</th>\n",
       "      <th>alpha</th>\n",
       "      <th>bagging_fraction</th>\n",
       "      <th>feature_fraction</th>\n",
       "      <th>gamma</th>\n",
       "      <th>lambda</th>\n",
       "      <th>max_depth</th>\n",
       "      <th>min_child_weight</th>\n",
       "      <th>min_data_in_leaf</th>\n",
       "      <th>num_leaves</th>\n",
       "    </tr>\n",
       "  </thead>\n",
       "  <tbody>\n",
       "    <tr>\n",
       "      <th>0</th>\n",
       "      <td>2.937446</td>\n",
       "      <td>0.263046</td>\n",
       "      <td>0.90</td>\n",
       "      <td>0.60</td>\n",
       "      <td>0.2</td>\n",
       "      <td>0.169385</td>\n",
       "      <td>5</td>\n",
       "      <td>3</td>\n",
       "      <td>6</td>\n",
       "      <td>20</td>\n",
       "    </tr>\n",
       "    <tr>\n",
       "      <th>1</th>\n",
       "      <td>2.940469</td>\n",
       "      <td>0.000378</td>\n",
       "      <td>0.75</td>\n",
       "      <td>0.75</td>\n",
       "      <td>0.2</td>\n",
       "      <td>0.230294</td>\n",
       "      <td>5</td>\n",
       "      <td>3</td>\n",
       "      <td>6</td>\n",
       "      <td>10</td>\n",
       "    </tr>\n",
       "    <tr>\n",
       "      <th>2</th>\n",
       "      <td>2.940538</td>\n",
       "      <td>0.007746</td>\n",
       "      <td>0.80</td>\n",
       "      <td>0.75</td>\n",
       "      <td>0.1</td>\n",
       "      <td>0.228801</td>\n",
       "      <td>5</td>\n",
       "      <td>3</td>\n",
       "      <td>6</td>\n",
       "      <td>10</td>\n",
       "    </tr>\n",
       "    <tr>\n",
       "      <th>3</th>\n",
       "      <td>2.945271</td>\n",
       "      <td>0.178847</td>\n",
       "      <td>0.85</td>\n",
       "      <td>0.60</td>\n",
       "      <td>0.2</td>\n",
       "      <td>0.209226</td>\n",
       "      <td>5</td>\n",
       "      <td>3</td>\n",
       "      <td>6</td>\n",
       "      <td>40</td>\n",
       "    </tr>\n",
       "    <tr>\n",
       "      <th>4</th>\n",
       "      <td>2.949978</td>\n",
       "      <td>0.000444</td>\n",
       "      <td>0.75</td>\n",
       "      <td>0.75</td>\n",
       "      <td>0.2</td>\n",
       "      <td>0.235214</td>\n",
       "      <td>5</td>\n",
       "      <td>3</td>\n",
       "      <td>6</td>\n",
       "      <td>10</td>\n",
       "    </tr>\n",
       "    <tr>\n",
       "      <th>...</th>\n",
       "      <td>...</td>\n",
       "      <td>...</td>\n",
       "      <td>...</td>\n",
       "      <td>...</td>\n",
       "      <td>...</td>\n",
       "      <td>...</td>\n",
       "      <td>...</td>\n",
       "      <td>...</td>\n",
       "      <td>...</td>\n",
       "      <td>...</td>\n",
       "    </tr>\n",
       "    <tr>\n",
       "      <th>995</th>\n",
       "      <td>3.158419</td>\n",
       "      <td>0.000016</td>\n",
       "      <td>0.65</td>\n",
       "      <td>0.95</td>\n",
       "      <td>0.2</td>\n",
       "      <td>0.000759</td>\n",
       "      <td>5</td>\n",
       "      <td>3</td>\n",
       "      <td>6</td>\n",
       "      <td>50</td>\n",
       "    </tr>\n",
       "    <tr>\n",
       "      <th>996</th>\n",
       "      <td>3.162940</td>\n",
       "      <td>0.000038</td>\n",
       "      <td>0.75</td>\n",
       "      <td>0.95</td>\n",
       "      <td>0.2</td>\n",
       "      <td>0.199057</td>\n",
       "      <td>5</td>\n",
       "      <td>3</td>\n",
       "      <td>6</td>\n",
       "      <td>10</td>\n",
       "    </tr>\n",
       "    <tr>\n",
       "      <th>997</th>\n",
       "      <td>3.165871</td>\n",
       "      <td>0.000049</td>\n",
       "      <td>0.80</td>\n",
       "      <td>0.95</td>\n",
       "      <td>0.2</td>\n",
       "      <td>9.237272</td>\n",
       "      <td>5</td>\n",
       "      <td>3</td>\n",
       "      <td>6</td>\n",
       "      <td>10</td>\n",
       "    </tr>\n",
       "    <tr>\n",
       "      <th>998</th>\n",
       "      <td>3.167983</td>\n",
       "      <td>0.306936</td>\n",
       "      <td>0.95</td>\n",
       "      <td>0.95</td>\n",
       "      <td>0.2</td>\n",
       "      <td>0.546336</td>\n",
       "      <td>5</td>\n",
       "      <td>3</td>\n",
       "      <td>6</td>\n",
       "      <td>20</td>\n",
       "    </tr>\n",
       "    <tr>\n",
       "      <th>999</th>\n",
       "      <td>3.192180</td>\n",
       "      <td>0.086392</td>\n",
       "      <td>0.80</td>\n",
       "      <td>0.95</td>\n",
       "      <td>0.1</td>\n",
       "      <td>0.021265</td>\n",
       "      <td>5</td>\n",
       "      <td>3</td>\n",
       "      <td>6</td>\n",
       "      <td>30</td>\n",
       "    </tr>\n",
       "  </tbody>\n",
       "</table>\n",
       "<p>1000 rows × 10 columns</p>\n",
       "</div>"
      ],
      "text/plain": [
       "         loss     alpha  bagging_fraction  feature_fraction  gamma    lambda  \\\n",
       "0    2.937446  0.263046              0.90              0.60    0.2  0.169385   \n",
       "1    2.940469  0.000378              0.75              0.75    0.2  0.230294   \n",
       "2    2.940538  0.007746              0.80              0.75    0.1  0.228801   \n",
       "3    2.945271  0.178847              0.85              0.60    0.2  0.209226   \n",
       "4    2.949978  0.000444              0.75              0.75    0.2  0.235214   \n",
       "..        ...       ...               ...               ...    ...       ...   \n",
       "995  3.158419  0.000016              0.65              0.95    0.2  0.000759   \n",
       "996  3.162940  0.000038              0.75              0.95    0.2  0.199057   \n",
       "997  3.165871  0.000049              0.80              0.95    0.2  9.237272   \n",
       "998  3.167983  0.306936              0.95              0.95    0.2  0.546336   \n",
       "999  3.192180  0.086392              0.80              0.95    0.1  0.021265   \n",
       "\n",
       "     max_depth  min_child_weight  min_data_in_leaf  num_leaves  \n",
       "0            5                 3                 6          20  \n",
       "1            5                 3                 6          10  \n",
       "2            5                 3                 6          10  \n",
       "3            5                 3                 6          40  \n",
       "4            5                 3                 6          10  \n",
       "..         ...               ...               ...         ...  \n",
       "995          5                 3                 6          50  \n",
       "996          5                 3                 6          10  \n",
       "997          5                 3                 6          10  \n",
       "998          5                 3                 6          20  \n",
       "999          5                 3                 6          30  \n",
       "\n",
       "[1000 rows x 10 columns]"
      ]
     },
     "metadata": {},
     "output_type": "display_data"
    }
   ],
   "source": [
    "# trialsからスコアとパラメータを取り出し\n",
    "result = [(i['loss'], i['params']) for i in sorted(trials.results, key=lambda x: x['loss'])]\n",
    "# スコアとパラメータそれぞれをリスト、辞書に\n",
    "losses = [i[0] for i in result]\n",
    "opt_params = [i[1] for i in result]\n",
    "# スコアとパラメータをDataFrame化\n",
    "opt_params_df = pd.concat([pd.Series(losses, name='loss'), pd.DataFrame(opt_params)], axis=1)\n",
    "display(opt_params_df)"
   ]
  },
  {
   "cell_type": "code",
   "execution_count": 24,
   "metadata": {},
   "outputs": [
    {
     "data": {
      "image/png": "[encoded data removed]",
      "text/plain": [
       "<Figure size 1440x4320 with 10 Axes>"
      ]
     },
     "metadata": {
      "needs_background": "light"
     },
     "output_type": "display_data"
    }
   ],
   "source": [
    "opt_params_df.iloc[:10, :].plot.line(figsize=(20, 60), layout=(10, 1), marker='o', subplots=True, legend=True)\n",
    "plt.show()"
   ]
  },
  {
   "cell_type": "code",
   "execution_count": 25,
   "metadata": {},
   "outputs": [],
   "source": [
    "# ベストスコアとそのときのパラメータを記録\n",
    "best_loss = losses[0]\n",
    "best_params = opt_params[0]"
   ]
  },
  {
   "cell_type": "code",
   "execution_count": 26,
   "metadata": {},
   "outputs": [
    {
     "name": "stdout",
     "output_type": "stream",
     "text": [
      "best_loss: \n",
      "2.937446342084411\n",
      "\n",
      "best_params: \n",
      "{'alpha': 0.2630459930880449,\n",
      " 'bagging_fraction': 0.9,\n",
      " 'feature_fraction': 0.6000000000000001,\n",
      " 'gamma': 0.2,\n",
      " 'lambda': 0.16938525736701832,\n",
      " 'max_depth': 5,\n",
      " 'min_child_weight': 3,\n",
      " 'min_data_in_leaf': 6,\n",
      " 'num_leaves': 20}\n"
     ]
    }
   ],
   "source": [
    "print(\"best_loss: \")\n",
    "pprint.pprint(best_loss)\n",
    "print(\"\\nbest_params: \")\n",
    "pprint.pprint(best_params)"
   ]
  },
  {
   "cell_type": "markdown",
   "metadata": {},
   "source": [
    "# Create Submission"
   ]
  },
  {
   "cell_type": "code",
   "execution_count": 27,
   "metadata": {},
   "outputs": [
    {
     "data": {
      "text/html": [
       "<div>\n",
       "<style scoped>\n",
       "    .dataframe tbody tr th:only-of-type {\n",
       "        vertical-align: middle;\n",
       "    }\n",
       "\n",
       "    .dataframe tbody tr th {\n",
       "        vertical-align: top;\n",
       "    }\n",
       "\n",
       "    .dataframe thead th {\n",
       "        text-align: right;\n",
       "    }\n",
       "</style>\n",
       "<table border=\"1\" class=\"dataframe\">\n",
       "  <thead>\n",
       "    <tr style=\"text-align: right;\">\n",
       "      <th></th>\n",
       "      <th>id</th>\n",
       "      <th>pred</th>\n",
       "    </tr>\n",
       "  </thead>\n",
       "  <tbody>\n",
       "    <tr>\n",
       "      <th>0</th>\n",
       "      <td>1</td>\n",
       "      <td>36.187448</td>\n",
       "    </tr>\n",
       "    <tr>\n",
       "      <th>1</th>\n",
       "      <td>2</td>\n",
       "      <td>29.198405</td>\n",
       "    </tr>\n",
       "    <tr>\n",
       "      <th>2</th>\n",
       "      <td>5</td>\n",
       "      <td>27.338606</td>\n",
       "    </tr>\n",
       "    <tr>\n",
       "      <th>3</th>\n",
       "      <td>6</td>\n",
       "      <td>30.530922</td>\n",
       "    </tr>\n",
       "    <tr>\n",
       "      <th>4</th>\n",
       "      <td>8</td>\n",
       "      <td>25.090399</td>\n",
       "    </tr>\n",
       "    <tr>\n",
       "      <th>...</th>\n",
       "      <td>...</td>\n",
       "      <td>...</td>\n",
       "    </tr>\n",
       "    <tr>\n",
       "      <th>495</th>\n",
       "      <td>992</td>\n",
       "      <td>27.615641</td>\n",
       "    </tr>\n",
       "    <tr>\n",
       "      <th>496</th>\n",
       "      <td>993</td>\n",
       "      <td>29.739287</td>\n",
       "    </tr>\n",
       "    <tr>\n",
       "      <th>497</th>\n",
       "      <td>996</td>\n",
       "      <td>17.638240</td>\n",
       "    </tr>\n",
       "    <tr>\n",
       "      <th>498</th>\n",
       "      <td>998</td>\n",
       "      <td>27.338606</td>\n",
       "    </tr>\n",
       "    <tr>\n",
       "      <th>499</th>\n",
       "      <td>999</td>\n",
       "      <td>34.262457</td>\n",
       "    </tr>\n",
       "  </tbody>\n",
       "</table>\n",
       "<p>500 rows × 2 columns</p>\n",
       "</div>"
      ],
      "text/plain": [
       "      id       pred\n",
       "0      1  36.187448\n",
       "1      2  29.198405\n",
       "2      5  27.338606\n",
       "3      6  30.530922\n",
       "4      8  25.090399\n",
       "..   ...        ...\n",
       "495  992  27.615641\n",
       "496  993  29.739287\n",
       "497  996  17.638240\n",
       "498  998  27.338606\n",
       "499  999  34.262457\n",
       "\n",
       "[500 rows x 2 columns]"
      ]
     },
     "metadata": {},
     "output_type": "display_data"
    }
   ],
   "source": [
    "dt = datetime.datetime.now().strftime('%Y-%m-%d-%H-%M-%S')\n",
    "submission = pd.DataFrame({'id':sample_sub.id})\n",
    "importance_list = []\n",
    "\n",
    "best_model = lgb.LGBMRegressor(**best_params)\n",
    "best_model.fit(train_X, train_y)\n",
    "submission = pd.concat(\n",
    "    [submission, pd.Series(best_model.predict(test_treated.drop(['id', 'mpg'], axis=1)), name='pred')],\n",
    "    axis=1\n",
    ")\n",
    "\n",
    "display(submission)"
   ]
  },
  {
   "cell_type": "markdown",
   "metadata": {},
   "source": [
    "### Save files"
   ]
  },
  {
   "cell_type": "code",
   "execution_count": 28,
   "metadata": {},
   "outputs": [],
   "source": [
    "# features\n",
    "train_treated.to_pickle('../features/feature_train_' + dt + '_car_name_drop.pkl')\n",
    "test_treated.to_pickle('../features/feature_test_' + dt + '_car_name_drop.pkl')\n",
    "\n",
    "# submission\n",
    "submission[['id', 'pred']].to_csv('../data/output/sub_' + dt + '_lightgbm.csv', header=False, index=False)\n",
    "# model\n",
    "pickle.dump(best_model, open('../models/model_' + dt + '_lightgbm.pickle', 'wb'))\n",
    "# best parameter\n",
    "pickle.dump(best_params, open('../logs/params_' + dt + '.pickle', 'wb'))\n",
    "# best train score\n",
    "pickle.dump(best_loss, open('../logs/logs_test_score' + dt + '.pickle', 'wb'))"
   ]
  },
  {
   "cell_type": "markdown",
   "metadata": {},
   "source": [
    "# Check Importance"
   ]
  },
  {
   "cell_type": "markdown",
   "metadata": {},
   "source": [
    "## lgb importance method"
   ]
  },
  {
   "cell_type": "code",
   "execution_count": 29,
   "metadata": {},
   "outputs": [
    {
     "data": {
      "text/html": [
       "<div>\n",
       "<style scoped>\n",
       "    .dataframe tbody tr th:only-of-type {\n",
       "        vertical-align: middle;\n",
       "    }\n",
       "\n",
       "    .dataframe tbody tr th {\n",
       "        vertical-align: top;\n",
       "    }\n",
       "\n",
       "    .dataframe thead th {\n",
       "        text-align: right;\n",
       "    }\n",
       "</style>\n",
       "<table border=\"1\" class=\"dataframe\">\n",
       "  <thead>\n",
       "    <tr style=\"text-align: right;\">\n",
       "      <th></th>\n",
       "      <th>importance</th>\n",
       "    </tr>\n",
       "  </thead>\n",
       "  <tbody>\n",
       "    <tr>\n",
       "      <th>acceleration</th>\n",
       "      <td>364</td>\n",
       "    </tr>\n",
       "    <tr>\n",
       "      <th>weight</th>\n",
       "      <td>295</td>\n",
       "    </tr>\n",
       "    <tr>\n",
       "      <th>displacement</th>\n",
       "      <td>277</td>\n",
       "    </tr>\n",
       "    <tr>\n",
       "      <th>horsepower</th>\n",
       "      <td>262</td>\n",
       "    </tr>\n",
       "    <tr>\n",
       "      <th>model year</th>\n",
       "      <td>194</td>\n",
       "    </tr>\n",
       "    <tr>\n",
       "      <th>cylinders</th>\n",
       "      <td>69</td>\n",
       "    </tr>\n",
       "    <tr>\n",
       "      <th>origin</th>\n",
       "      <td>54</td>\n",
       "    </tr>\n",
       "  </tbody>\n",
       "</table>\n",
       "</div>"
      ],
      "text/plain": [
       "              importance\n",
       "acceleration         364\n",
       "weight               295\n",
       "displacement         277\n",
       "horsepower           262\n",
       "model year           194\n",
       "cylinders             69\n",
       "origin                54"
      ]
     },
     "metadata": {},
     "output_type": "display_data"
    }
   ],
   "source": [
    "importance_df = pd.DataFrame(\n",
    "    best_model.feature_importances_.tolist(), \n",
    "    index=train_X.columns,\n",
    "    columns=['importance']\n",
    ").sort_values('importance', ascending=False)\n",
    "display(importance_df)"
   ]
  },
  {
   "cell_type": "markdown",
   "metadata": {},
   "source": [
    "## eli5 permutation importance"
   ]
  },
  {
   "cell_type": "code",
   "execution_count": 30,
   "metadata": {},
   "outputs": [
    {
     "data": {
      "text/html": [
       "<div>\n",
       "<style scoped>\n",
       "    .dataframe tbody tr th:only-of-type {\n",
       "        vertical-align: middle;\n",
       "    }\n",
       "\n",
       "    .dataframe tbody tr th {\n",
       "        vertical-align: top;\n",
       "    }\n",
       "\n",
       "    .dataframe thead th {\n",
       "        text-align: right;\n",
       "    }\n",
       "</style>\n",
       "<table border=\"1\" class=\"dataframe\">\n",
       "  <thead>\n",
       "    <tr style=\"text-align: right;\">\n",
       "      <th></th>\n",
       "      <th>weight</th>\n",
       "    </tr>\n",
       "    <tr>\n",
       "      <th>feature</th>\n",
       "      <th></th>\n",
       "    </tr>\n",
       "  </thead>\n",
       "  <tbody>\n",
       "    <tr>\n",
       "      <th>cylinders</th>\n",
       "      <td>0.310325</td>\n",
       "    </tr>\n",
       "    <tr>\n",
       "      <th>displacement</th>\n",
       "      <td>0.284692</td>\n",
       "    </tr>\n",
       "    <tr>\n",
       "      <th>model_year</th>\n",
       "      <td>0.110875</td>\n",
       "    </tr>\n",
       "    <tr>\n",
       "      <th>acceleration</th>\n",
       "      <td>0.098682</td>\n",
       "    </tr>\n",
       "    <tr>\n",
       "      <th>horsepower</th>\n",
       "      <td>0.072758</td>\n",
       "    </tr>\n",
       "    <tr>\n",
       "      <th>weight</th>\n",
       "      <td>0.067276</td>\n",
       "    </tr>\n",
       "    <tr>\n",
       "      <th>origin</th>\n",
       "      <td>0.055392</td>\n",
       "    </tr>\n",
       "  </tbody>\n",
       "</table>\n",
       "</div>"
      ],
      "text/plain": [
       "                weight\n",
       "feature               \n",
       "cylinders     0.310325\n",
       "displacement  0.284692\n",
       "model_year    0.110875\n",
       "acceleration  0.098682\n",
       "horsepower    0.072758\n",
       "weight        0.067276\n",
       "origin        0.055392"
      ]
     },
     "execution_count": 30,
     "metadata": {},
     "output_type": "execute_result"
    }
   ],
   "source": [
    "perm_df = eli5.explain_weights_df(best_model)\n",
    "perm_df.set_index('feature')"
   ]
  },
  {
   "cell_type": "markdown",
   "metadata": {},
   "source": [
    "# Feature Importance"
   ]
  },
  {
   "cell_type": "code",
   "execution_count": 31,
   "metadata": {},
   "outputs": [],
   "source": [
    "from collections import defaultdict\n",
    "from sklearn.model_selection import KFold"
   ]
  },
  {
   "cell_type": "code",
   "execution_count": 32,
   "metadata": {},
   "outputs": [],
   "source": [
    "def permuted(df):\n",
    "    for col in df.columns:\n",
    "        permuted_df = df.copy()\n",
    "        permuted_df[col] = np.random.permutation(permuted_df[col])\n",
    "        yield col, permuted_df"
   ]
  },
  {
   "cell_type": "code",
   "execution_count": 33,
   "metadata": {},
   "outputs": [],
   "source": [
    "def pimp(clf, x, y, kf=None, eval_func=RMSE):\n",
    "    base_scores=[]\n",
    "    perm_scores = defaultdict(list)\n",
    "    \n",
    "    if kf is None:\n",
    "        kf = KFold(n_splits=5, shuffle=True, random_state=42)\n",
    "    \n",
    "    for tr_idx, va_idx in kf.split(x, y):\n",
    "        tr_x, tr_y = x.iloc[tr_idx], y.iloc[tr_idx]\n",
    "        va_x, va_y = x.iloc[va_idx], y.iloc[va_idx]\n",
    "        \n",
    "        clf.fit(tr_x, tr_y)\n",
    "        \n",
    "        y_pred_base = clf.predict(va_x)\n",
    "        base_score = eval_func(va_y, y_pred_base)\n",
    "        base_scores.append(base_score)\n",
    "        \n",
    "        perm_va_x_gen = permuted(va_x)\n",
    "        for col, perm_va_x in perm_va_x_gen:\n",
    "            y_pred_perm = clf.predict(perm_va_x)\n",
    "            perm_score = eval_func(va_y, y_pred_perm)\n",
    "            perm_scores[col].append(perm_score)\n",
    "            \n",
    "    np_base_score = np.array(base_score)\n",
    "    dict_perm_score = {name:np.array(scores) for name, scores in perm_scores.items()}\n",
    "    return np_base_score, dict_perm_score"
   ]
  },
  {
   "cell_type": "code",
   "execution_count": 34,
   "metadata": {},
   "outputs": [],
   "source": [
    "def score_diff_stat(base, perm):\n",
    "    mean_base_score = base.mean()\n",
    "    for col, scores in perm.items():\n",
    "        score_diff = scores - mean_base_score\n",
    "        yield col, score_diff.mean(), score_diff.std()\n",
    "# score_diff.std()が0になってしまう？"
   ]
  },
  {
   "cell_type": "code",
   "execution_count": 35,
   "metadata": {},
   "outputs": [
    {
     "name": "stdout",
     "output_type": "stream",
     "text": [
      "{'acceleration': array([3.89188032, 3.23685592, 3.7304286 , 3.90692094, 4.05642033]),\n",
      " 'cylinders': array([4.82136927, 4.66632776, 4.70328192, 4.76926982, 5.35484486]),\n",
      " 'displacement': array([3.89328014, 3.28788627, 3.91004723, 3.31366937, 4.39250868]),\n",
      " 'horsepower': array([3.25611923, 2.88881401, 3.11397018, 2.94234947, 3.71925222]),\n",
      " 'model year': array([4.28453254, 3.19798391, 3.28824908, 3.52289519, 4.35453328]),\n",
      " 'origin': array([3.68554614, 2.82664649, 3.36810128, 3.21782675, 3.68408386]),\n",
      " 'weight': array([3.2930425 , 2.82254756, 3.09550493, 3.13311737, 4.09310166])}\n"
     ]
    }
   ],
   "source": [
    "# Permutation Importanceを計算\n",
    "base_score, perm_scores = pimp(best_model, train_X, train_y)\n",
    "pprint.pprint(perm_scores)"
   ]
  },
  {
   "cell_type": "code",
   "execution_count": 36,
   "metadata": {},
   "outputs": [],
   "source": [
    "# カラム名、base scoreとの差、95%信頼区間を取り出す\n",
    "diff_stat = list(score_diff_stat(base_score, perm_scores))\n",
    "sorted_diff_stat = sorted(diff_stat, key=lambda x:x[1])\n",
    "cols = [name for name, _, _ in sorted_diff_stat]\n",
    "diff_means = [diff_mean for _, diff_mean, _ in sorted_diff_stat]\n",
    "diff_stds_95 = [diff_std * 1.96 for _, _, diff_std in sorted_diff_stat]"
   ]
  },
  {
   "cell_type": "code",
   "execution_count": 37,
   "metadata": {},
   "outputs": [
    {
     "data": {
      "text/plain": [
       "[('horsepower', -0.36813131177486885, 0.2973650923040954),\n",
       " ('weight', -0.26476953023039307, 0.4303258352560098),\n",
       " ('origin', -0.19579142836372682, 0.321151717520458),\n",
       " ('model year', 0.17740646636400542, 0.49368510148617445),\n",
       " ('displacement', 0.20724600511065533, 0.4153182012340646),\n",
       " ('acceleration', 0.21226888565584162, 0.28330057645353157),\n",
       " ('cylinders', 1.3107863927593644, 0.2516424707029436)]"
      ]
     },
     "execution_count": 37,
     "metadata": {},
     "output_type": "execute_result"
    }
   ],
   "source": [
    "sorted_diff_stat"
   ]
  },
  {
   "cell_type": "code",
   "execution_count": 38,
   "metadata": {},
   "outputs": [
    {
     "data": {
      "text/plain": [
       "array(3.55223233)"
      ]
     },
     "execution_count": 38,
     "metadata": {},
     "output_type": "execute_result"
    }
   ],
   "source": [
    "base_score"
   ]
  },
  {
   "cell_type": "code",
   "execution_count": 39,
   "metadata": {},
   "outputs": [
    {
     "name": "stderr",
     "output_type": "stream",
     "text": [
      "findfont: Font family ['TakaoPGothic'] not found. Falling back to DejaVu Sans.\n"
     ]
    },
    {
     "data": {
      "image/png": "[encoded data removed]",
      "text/plain": [
       "<Figure size 432x288 with 1 Axes>"
      ]
     },
     "metadata": {
      "needs_background": "light"
     },
     "output_type": "display_data"
    }
   ],
   "source": [
    "# グラフにプロットする\n",
    "plt.plot(cols, diff_means, marker='o', color='r')\n",
    "plt.errorbar(cols, diff_means, yerr=diff_stds_95, ecolor='g', capsize=4)\n",
    "\n",
    "plt.title('Permutation Importance')\n",
    "plt.grid()\n",
    "plt.xlabel('column')\n",
    "plt.ylabel('difference')\n",
    "plt.show()"
   ]
  },
  {
   "cell_type": "code",
   "execution_count": null,
   "metadata": {},
   "outputs": [],
   "source": []
  }
 ],
 "metadata": {
  "kernelspec": {
   "display_name": "Environment (conda_ml)",
   "language": "python",
   "name": "conda_ml"
  },
  "language_info": {
   "codemirror_mode": {
    "name": "ipython",
    "version": 3
   },
   "file_extension": ".py",
   "mimetype": "text/x-python",
   "name": "python",
   "nbconvert_exporter": "python",
   "pygments_lexer": "ipython3",
   "version": "3.7.7"
  }
 },
 "nbformat": 4,
 "nbformat_minor": 4
}
