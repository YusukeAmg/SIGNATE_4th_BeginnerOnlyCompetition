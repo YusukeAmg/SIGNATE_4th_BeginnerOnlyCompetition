{
 "cells": [
  {
   "cell_type": "code",
   "execution_count": 1,
   "metadata": {},
   "outputs": [],
   "source": [
    "import numpy as np\n",
    "import pandas as pd\n",
    "import pprint\n",
    "\n",
    "from sklearn.preprocessing import LabelEncoder, StandardScaler\n",
    "from sklearn.model_selection import KFold, cross_validate\n",
    "from sklearn.metrics import mean_squared_error as MSE, make_scorer\n",
    "\n",
    "from functools import partial\n",
    "from hyperopt import fmin, tpe, hp, STATUS_OK, Trials, space_eval\n",
    "\n",
    "from keras.callbacks import EarlyStopping\n",
    "from keras.models import Sequential\n",
    "from keras.layers import Dense, Dropout\n",
    "from keras.layers.normalization import BatchNormalization\n",
    "from keras.layers.advanced_activations import ReLU, PReLU\n",
    "from keras.optimizers import SGD, Adam\n",
    "\n",
    "import os\n",
    "os.environ['TF_CPP_MIN_LOG_LEVEL'] = '1'\n",
    "import tensorflow as tf\n",
    "tf.compat.v1.logging.set_verbosity(tf.compat.v1.logging.ERROR)\n",
    "\n",
    "import pickle\n",
    "import datetime"
   ]
  },
  {
   "cell_type": "code",
   "execution_count": 2,
   "metadata": {},
   "outputs": [],
   "source": [
    "train = pd.read_csv('../data/input/train.csv')\n",
    "test = pd.read_csv('../data/input/test.csv')\n",
    "sample_sub = pd.read_csv('../data/input/sample_submit.csv', header=None, names=['id', 'mpg'])\n",
    "\n",
    "train_test = pd.concat([train, test], ignore_index=True, sort=False)"
   ]
  },
  {
   "cell_type": "markdown",
   "metadata": {},
   "source": [
    "# Preprocessing"
   ]
  },
  {
   "cell_type": "markdown",
   "metadata": {},
   "source": [
    "## car name, car brand"
   ]
  },
  {
   "cell_type": "code",
   "execution_count": 3,
   "metadata": {},
   "outputs": [],
   "source": [
    "train_test['car name'] = train_test['car name'].str.replace('vw', 'volkswagen')\n",
    "train_test['car name'] = train_test['car name'].str.replace('vokswagen', 'volkswagen')\n",
    "train_test['car name'] = train_test['car name'].str.replace('toyouta', 'toyota')\n",
    "train_test['car name'] = train_test['car name'].str.replace('chevy', 'chevrolet')\n",
    "train_test['car name'] = train_test['car name'].str.replace('datsun 200-sx', 'datsun 200sx')\n",
    "\n",
    "train_test['car name'] = train_test['car name'].str.replace('datsun 210 mpg', 'datsun 210')\n",
    "train_test['car name'] = train_test['car name'].str.replace('ford gran torino (sw)', 'ford gran torino')"
   ]
  },
  {
   "cell_type": "code",
   "execution_count": 4,
   "metadata": {},
   "outputs": [],
   "source": [
    "train_test['car_brand'] = train_test['car name'].apply(lambda x: x.strip().split(' ')[0])"
   ]
  },
  {
   "cell_type": "markdown",
   "metadata": {},
   "source": [
    "## horse power"
   ]
  },
  {
   "cell_type": "code",
   "execution_count": 5,
   "metadata": {},
   "outputs": [],
   "source": [
    "train_test['horsepower'].replace('?', np.nan, inplace=True)\n",
    "train_test['horsepower'] = train_test['horsepower'].astype(float)"
   ]
  },
  {
   "cell_type": "code",
   "execution_count": 6,
   "metadata": {},
   "outputs": [],
   "source": [
    "# car name毎のhorse powerの平均値を計算(nanは計算外)\n",
    "name_hp_mean = train_test.groupby('car name').horsepower.mean()\n",
    "df_hp_isnull = train_test[train_test['horsepower'].isnull()]\n",
    "\n",
    "# nan位置のtrainデータのhorse powerを置換する\n",
    "for i in df_hp_isnull.index:\n",
    "    train_test.loc[i, 'horsepower'] = name_hp_mean[df_hp_isnull.loc[i, 'car name']]\n",
    "    \n",
    "del df_hp_isnull, name_hp_mean"
   ]
  },
  {
   "cell_type": "markdown",
   "metadata": {},
   "source": [
    "# Encoding"
   ]
  },
  {
   "cell_type": "code",
   "execution_count": 7,
   "metadata": {},
   "outputs": [],
   "source": [
    "cat_cols = ['car name', 'car_brand']\n",
    "for cols in cat_cols:\n",
    "    train_test[cols] = LabelEncoder().fit_transform(train_test[cols])\n",
    "\n",
    "del cat_cols"
   ]
  },
  {
   "cell_type": "markdown",
   "metadata": {},
   "source": [
    "# Create Model "
   ]
  },
  {
   "cell_type": "code",
   "execution_count": 8,
   "metadata": {},
   "outputs": [],
   "source": [
    "test_treated = train_test[train_test['mpg'].isnull()].copy()\n",
    "train_treated = train_test.dropna(subset=['mpg'], axis=0).copy()\n",
    "\n",
    "train_x = train_treated.drop(['id', 'mpg'], axis=1)\n",
    "train_y = train_treated['mpg']"
   ]
  },
  {
   "cell_type": "code",
   "execution_count": 9,
   "metadata": {},
   "outputs": [],
   "source": [
    "kf = KFold(n_splits=4, shuffle=True, random_state=1)\n",
    "tr_idx, va_idx = list(kf.split(train_x))[0]\n",
    "tr_x, va_x = train_x.iloc[tr_idx], train_x.iloc[va_idx]\n",
    "tr_y, va_y = train_y.iloc[tr_idx], train_y.iloc[va_idx]"
   ]
  },
  {
   "cell_type": "code",
   "execution_count": 10,
   "metadata": {},
   "outputs": [
    {
     "name": "stdout",
     "output_type": "stream",
     "text": [
      "tr_x: (375, 9)\n",
      "tr_y: (375,)\n",
      "va_x: (125, 9)\n",
      "va_y: (125,)\n"
     ]
    }
   ],
   "source": [
    "print(\"tr_x:\", tr_x.shape)\n",
    "print(\"tr_y:\", tr_y.shape)\n",
    "\n",
    "print(\"va_x:\", va_x.shape)\n",
    "print(\"va_y:\", va_y.shape)"
   ]
  },
  {
   "cell_type": "code",
   "execution_count": 57,
   "metadata": {},
   "outputs": [],
   "source": [
    "class MLP:\n",
    "\n",
    "    def __init__(self, params):\n",
    "        self.params = params\n",
    "        self.scaler = None\n",
    "        self.model = None\n",
    "\n",
    "    def fit(self, tr_x, tr_y, va_x, va_y):\n",
    "\n",
    "        # パラメータ\n",
    "        input_dropout = self.params['input_dropout']\n",
    "        hidden_layers = int(self.params['hidden_layers'])\n",
    "        hidden_units = int(self.params['hidden_units'])\n",
    "        hidden_activation = self.params['hidden_activation']\n",
    "        hidden_dropout = self.params['hidden_dropout']\n",
    "        batch_norm = self.params['batch_norm']\n",
    "        optimizer_type = self.params['optimizer']['type']\n",
    "        optimizer_lr = self.params['optimizer']['lr']\n",
    "        batch_size = int(self.params['batch_size'])\n",
    "\n",
    "        # 標準化\n",
    "        self.scaler = StandardScaler()\n",
    "        tr_x = self.scaler.fit_transform(tr_x)\n",
    "        va_x = self.scaler.transform(va_x)\n",
    "\n",
    "        self.model = Sequential()\n",
    "\n",
    "        # 入力層\n",
    "        self.model.add(Dropout(input_dropout, input_shape=(tr_x.shape[1],)))\n",
    "\n",
    "        # 中間層\n",
    "        for i in range(hidden_layers):\n",
    "            self.model.add(Dense(hidden_units))\n",
    "            if batch_norm == 'before_act':\n",
    "                self.model.add(BatchNormalization())\n",
    "            if hidden_activation == 'prelu':\n",
    "                self.model.add(PReLU())\n",
    "            elif hidden_activation == 'relu':\n",
    "                self.model.add(ReLU())\n",
    "            else:\n",
    "                raise NotImplementedError\n",
    "            self.model.add(Dropout(hidden_dropout))\n",
    "\n",
    "        # 出力層\n",
    "        self.model.add(Dense(1))\n",
    "\n",
    "        # オプティマイザ\n",
    "        if optimizer_type == 'sgd':\n",
    "            optimizer = SGD(lr=optimizer_lr, decay=1e-6, momentum=0.9, nesterov=True)\n",
    "        elif optimizer_type == 'adam':\n",
    "            optimizer = Adam(lr=optimizer_lr, beta_1=0.9, beta_2=0.999, decay=0.)\n",
    "        else:\n",
    "            raise NotImplementedError\n",
    "\n",
    "        # 目的関数、評価指標などの設定\n",
    "        self.model.compile(loss='binary_crossentropy',\n",
    "                           optimizer=optimizer, metrics=['mse'])\n",
    "\n",
    "        # エポック数、アーリーストッピング\n",
    "        # あまりepochを大きくすると、小さい学習率のときに終わらないことがあるので注意\n",
    "        nb_epoch = 200\n",
    "        patience = 20\n",
    "        early_stopping = EarlyStopping(patience=patience, restore_best_weights=True)\n",
    "\n",
    "        # 学習の実行\n",
    "        history = self.model.fit(tr_x, tr_y,\n",
    "                                 epochs=nb_epoch,\n",
    "                                 batch_size=batch_size, verbose=0,\n",
    "                                 validation_data=(va_x, va_y),\n",
    "                                 callbacks=[early_stopping])\n",
    "\n",
    "    def predict(self, x):\n",
    "        # 予測\n",
    "        x = self.scaler.transform(x)\n",
    "        y_pred = self.model.predict(x)\n",
    "        y_pred = y_pred.flatten()\n",
    "        return y_pred\n"
   ]
  },
  {
   "cell_type": "code",
   "execution_count": 54,
   "metadata": {},
   "outputs": [],
   "source": [
    "def RMSE(y_true, y_pred):\n",
    "    return(np.sqrt(MSE(y_true, y_pred)))\n",
    "\n",
    "def objective(params):    \n",
    "    model = MLP(params)\n",
    "    model.fit(tr_x, tr_y, va_x, va_y)\n",
    "    va_pred = model.predict(va_x)\n",
    "    score = RMSE(va_y, va_pred)\n",
    "    print(f'params:{params}, RMSE:{score:.4f}')\n",
    "    \n",
    "    history.append((params, score))\n",
    "    \n",
    "    return {\n",
    "        'loss':score,\n",
    "        'status':STATUS_OK,\n",
    "        'params':params\n",
    "    }"
   ]
  },
  {
   "cell_type": "code",
   "execution_count": 13,
   "metadata": {},
   "outputs": [],
   "source": [
    "base_param = {\n",
    "    'input_dropout': 0.0,\n",
    "    'hidden_layers': 3,\n",
    "    'hidden_units': 96,\n",
    "    'hidden_activation': 'relu',\n",
    "    'hidden_dropout': 0.2,\n",
    "    'batch_norm': 'before_act',\n",
    "    'optimizer': {'type': 'adam', 'lr': 0.001},\n",
    "    'batch_size': 64,\n",
    "}"
   ]
  },
  {
   "cell_type": "code",
   "execution_count": 14,
   "metadata": {},
   "outputs": [],
   "source": [
    "param_space ={\n",
    "    'input_dropout': hp.quniform('input_dropout', 0, 0.2, 0.05),\n",
    "    'hidden_layers': hp.quniform('hidden_layers', 2, 4, 1),\n",
    "    'hidden_units': hp.quniform('hidden_units', 32, 256, 32),\n",
    "    'hidden_activation': hp.choice('hidden_activation', ['prelu', 'relu']),\n",
    "    'hidden_dropout': hp.quniform('hidden_dropout', 0, 0.3, 0.05),\n",
    "    'batch_norm': hp.choice('batch_norm', ['before_act', 'no']),\n",
    "    'optimizer': hp.choice('optimizer',\n",
    "                           [{'type': 'adam',\n",
    "                             'lr': hp.loguniform('adam_lr', np.log(0.00001), np.log(0.01))},\n",
    "                            {'type': 'sgd',\n",
    "                             'lr': hp.loguniform('sgd_lr', np.log(0.00001), np.log(0.01))}]),\n",
    "    'batch_size': hp.quniform('batch_size', 32, 128, 32),\n",
    "}"
   ]
  },
  {
   "cell_type": "code",
   "execution_count": 64,
   "metadata": {},
   "outputs": [
    {
     "name": "stdout",
     "output_type": "stream",
     "text": [
      "params:{'batch_norm': 'before_act', 'batch_size': 96.0, 'hidden_activation': 'prelu', 'hidden_dropout': 0.25, 'hidden_layers': 3.0, 'hidden_units': 96.0, 'input_dropout': 0.15000000000000002, 'optimizer': {'lr': 0.0016497304579874068, 'type': 'adam'}}, RMSE:26.8290\n",
      "params:{'batch_norm': 'before_act', 'batch_size': 96.0, 'hidden_activation': 'relu', 'hidden_dropout': 0.1, 'hidden_layers': 3.0, 'hidden_units': 192.0, 'input_dropout': 0.15000000000000002, 'optimizer': {'lr': 0.0012792902485279035, 'type': 'adam'}}, RMSE:27.0367\n",
      "params:{'batch_norm': 'before_act', 'batch_size': 64.0, 'hidden_activation': 'prelu', 'hidden_dropout': 0.0, 'hidden_layers': 3.0, 'hidden_units': 224.0, 'input_dropout': 0.15000000000000002, 'optimizer': {'lr': 0.0008111102288841103, 'type': 'sgd'}}, RMSE:53.5599\n",
      "params:{'batch_norm': 'before_act', 'batch_size': 96.0, 'hidden_activation': 'prelu', 'hidden_dropout': 0.05, 'hidden_layers': 3.0, 'hidden_units': 64.0, 'input_dropout': 0.0, 'optimizer': {'lr': 0.007983560901269632, 'type': 'sgd'}}, RMSE:21244.8783\n",
      "params:{'batch_norm': 'no', 'batch_size': 96.0, 'hidden_activation': 'prelu', 'hidden_dropout': 0.15000000000000002, 'hidden_layers': 3.0, 'hidden_units': 192.0, 'input_dropout': 0.15000000000000002, 'optimizer': {'lr': 0.0006941105225316733, 'type': 'sgd'}}, RMSE:18.9851\n",
      "params:{'batch_norm': 'no', 'batch_size': 64.0, 'hidden_activation': 'relu', 'hidden_dropout': 0.15000000000000002, 'hidden_layers': 4.0, 'hidden_units': 128.0, 'input_dropout': 0.1, 'optimizer': {'lr': 0.0001551621652412949, 'type': 'sgd'}}, RMSE:24.6504\n",
      "params:{'batch_norm': 'no', 'batch_size': 64.0, 'hidden_activation': 'relu', 'hidden_dropout': 0.1, 'hidden_layers': 2.0, 'hidden_units': 160.0, 'input_dropout': 0.2, 'optimizer': {'lr': 0.00024755258932744134, 'type': 'adam'}}, RMSE:26.7247\n",
      "params:{'batch_norm': 'before_act', 'batch_size': 96.0, 'hidden_activation': 'prelu', 'hidden_dropout': 0.2, 'hidden_layers': 4.0, 'hidden_units': 160.0, 'input_dropout': 0.1, 'optimizer': {'lr': 0.008785250409996323, 'type': 'sgd'}}, RMSE:788.8714\n",
      "params:{'batch_norm': 'no', 'batch_size': 64.0, 'hidden_activation': 'prelu', 'hidden_dropout': 0.15000000000000002, 'hidden_layers': 3.0, 'hidden_units': 224.0, 'input_dropout': 0.2, 'optimizer': {'lr': 0.007221454504585187, 'type': 'adam'}}, RMSE:12.2472\n",
      "params:{'batch_norm': 'no', 'batch_size': 96.0, 'hidden_activation': 'prelu', 'hidden_dropout': 0.25, 'hidden_layers': 2.0, 'hidden_units': 224.0, 'input_dropout': 0.1, 'optimizer': {'lr': 0.0047040553191849705, 'type': 'sgd'}}, RMSE:90.7289\n",
      "100%|█████████████████████████████████████████████████████████████████████████████████████████████████████████████████████████████████████████████████████████████████████| 10/10 [00:29<00:00,  2.94s/trial, best loss: 12.247204493711498]\n"
     ]
    }
   ],
   "source": [
    "max_evals = 10\n",
    "nn_trials = Trials()\n",
    "history = []\n",
    "best = fmin(objective, param_space, algo=tpe.suggest, trials=nn_trials, max_evals=max_evals)"
   ]
  },
  {
   "cell_type": "code",
   "execution_count": 66,
   "metadata": {},
   "outputs": [
    {
     "data": {
      "text/plain": [
       "[({'batch_norm': 'before_act',\n",
       "   'batch_size': 96.0,\n",
       "   'hidden_activation': 'prelu',\n",
       "   'hidden_dropout': 0.25,\n",
       "   'hidden_layers': 3.0,\n",
       "   'hidden_units': 96.0,\n",
       "   'input_dropout': 0.15000000000000002,\n",
       "   'optimizer': {'lr': 0.0016497304579874068, 'type': 'adam'}},\n",
       "  26.829003796482798),\n",
       " ({'batch_norm': 'before_act',\n",
       "   'batch_size': 96.0,\n",
       "   'hidden_activation': 'relu',\n",
       "   'hidden_dropout': 0.1,\n",
       "   'hidden_layers': 3.0,\n",
       "   'hidden_units': 192.0,\n",
       "   'input_dropout': 0.15000000000000002,\n",
       "   'optimizer': {'lr': 0.0012792902485279035, 'type': 'adam'}},\n",
       "  27.036676561857483),\n",
       " ({'batch_norm': 'before_act',\n",
       "   'batch_size': 64.0,\n",
       "   'hidden_activation': 'prelu',\n",
       "   'hidden_dropout': 0.0,\n",
       "   'hidden_layers': 3.0,\n",
       "   'hidden_units': 224.0,\n",
       "   'input_dropout': 0.15000000000000002,\n",
       "   'optimizer': {'lr': 0.0008111102288841103, 'type': 'sgd'}},\n",
       "  53.55986256347308),\n",
       " ({'batch_norm': 'before_act',\n",
       "   'batch_size': 96.0,\n",
       "   'hidden_activation': 'prelu',\n",
       "   'hidden_dropout': 0.05,\n",
       "   'hidden_layers': 3.0,\n",
       "   'hidden_units': 64.0,\n",
       "   'input_dropout': 0.0,\n",
       "   'optimizer': {'lr': 0.007983560901269632, 'type': 'sgd'}},\n",
       "  21244.878273027403),\n",
       " ({'batch_norm': 'no',\n",
       "   'batch_size': 96.0,\n",
       "   'hidden_activation': 'prelu',\n",
       "   'hidden_dropout': 0.15000000000000002,\n",
       "   'hidden_layers': 3.0,\n",
       "   'hidden_units': 192.0,\n",
       "   'input_dropout': 0.15000000000000002,\n",
       "   'optimizer': {'lr': 0.0006941105225316733, 'type': 'sgd'}},\n",
       "  18.98505817283704),\n",
       " ({'batch_norm': 'no',\n",
       "   'batch_size': 64.0,\n",
       "   'hidden_activation': 'relu',\n",
       "   'hidden_dropout': 0.15000000000000002,\n",
       "   'hidden_layers': 4.0,\n",
       "   'hidden_units': 128.0,\n",
       "   'input_dropout': 0.1,\n",
       "   'optimizer': {'lr': 0.0001551621652412949, 'type': 'sgd'}},\n",
       "  24.650424629613873),\n",
       " ({'batch_norm': 'no',\n",
       "   'batch_size': 64.0,\n",
       "   'hidden_activation': 'relu',\n",
       "   'hidden_dropout': 0.1,\n",
       "   'hidden_layers': 2.0,\n",
       "   'hidden_units': 160.0,\n",
       "   'input_dropout': 0.2,\n",
       "   'optimizer': {'lr': 0.00024755258932744134, 'type': 'adam'}},\n",
       "  26.72473230576395),\n",
       " ({'batch_norm': 'before_act',\n",
       "   'batch_size': 96.0,\n",
       "   'hidden_activation': 'prelu',\n",
       "   'hidden_dropout': 0.2,\n",
       "   'hidden_layers': 4.0,\n",
       "   'hidden_units': 160.0,\n",
       "   'input_dropout': 0.1,\n",
       "   'optimizer': {'lr': 0.008785250409996323, 'type': 'sgd'}},\n",
       "  788.871436427052),\n",
       " ({'batch_norm': 'no',\n",
       "   'batch_size': 64.0,\n",
       "   'hidden_activation': 'prelu',\n",
       "   'hidden_dropout': 0.15000000000000002,\n",
       "   'hidden_layers': 3.0,\n",
       "   'hidden_units': 224.0,\n",
       "   'input_dropout': 0.2,\n",
       "   'optimizer': {'lr': 0.007221454504585187, 'type': 'adam'}},\n",
       "  12.247204493711498),\n",
       " ({'batch_norm': 'no',\n",
       "   'batch_size': 96.0,\n",
       "   'hidden_activation': 'prelu',\n",
       "   'hidden_dropout': 0.25,\n",
       "   'hidden_layers': 2.0,\n",
       "   'hidden_units': 224.0,\n",
       "   'input_dropout': 0.1,\n",
       "   'optimizer': {'lr': 0.0047040553191849705, 'type': 'sgd'}},\n",
       "  90.7288550474628)]"
      ]
     },
     "execution_count": 66,
     "metadata": {},
     "output_type": "execute_result"
    }
   ],
   "source": [
    "history"
   ]
  },
  {
   "cell_type": "code",
   "execution_count": 68,
   "metadata": {},
   "outputs": [
    {
     "data": {
      "text/plain": [
       "({'batch_norm': 'no',\n",
       "  'batch_size': 64.0,\n",
       "  'hidden_activation': 'prelu',\n",
       "  'hidden_dropout': 0.15000000000000002,\n",
       "  'hidden_layers': 3.0,\n",
       "  'hidden_units': 224.0,\n",
       "  'input_dropout': 0.2,\n",
       "  'optimizer': {'lr': 0.007221454504585187, 'type': 'adam'}},\n",
       " 12.247204493711498)"
      ]
     },
     "execution_count": 68,
     "metadata": {},
     "output_type": "execute_result"
    }
   ],
   "source": [
    "history[8]"
   ]
  },
  {
   "cell_type": "markdown",
   "metadata": {},
   "source": [
    "# Create Submission"
   ]
  },
  {
   "cell_type": "code",
   "execution_count": 90,
   "metadata": {},
   "outputs": [
    {
     "name": "stdout",
     "output_type": "stream",
     "text": [
      "{'batch_norm': 'no',\n",
      " 'batch_size': 64.0,\n",
      " 'hidden_activation': 'prelu',\n",
      " 'hidden_dropout': 0.15000000000000002,\n",
      " 'hidden_layers': 3.0,\n",
      " 'hidden_units': 224.0,\n",
      " 'input_dropout': 0.2,\n",
      " 'optimizer': {'lr': 0.007221454504585187, 'type': 'adam'}}\n",
      "RMSE:10.2538\n"
     ]
    }
   ],
   "source": [
    "best_params = history[8][0]\n",
    "best_model = MLP(best_params)\n",
    "best_model.fit(tr_x, tr_y, va_x, va_y)\n",
    "score = RMSE(va_y, best_model.predict(va_x))\n",
    "pprint.pprint(best_params)\n",
    "print(f'RMSE:{score:.4f}')\n",
    "\n",
    "pred = best_model.predict(test_treated.drop(['id', 'mpg'], axis=1))"
   ]
  },
  {
   "cell_type": "code",
   "execution_count": 91,
   "metadata": {},
   "outputs": [
    {
     "data": {
      "text/html": [
       "<div>\n",
       "<style scoped>\n",
       "    .dataframe tbody tr th:only-of-type {\n",
       "        vertical-align: middle;\n",
       "    }\n",
       "\n",
       "    .dataframe tbody tr th {\n",
       "        vertical-align: top;\n",
       "    }\n",
       "\n",
       "    .dataframe thead th {\n",
       "        text-align: right;\n",
       "    }\n",
       "</style>\n",
       "<table border=\"1\" class=\"dataframe\">\n",
       "  <thead>\n",
       "    <tr style=\"text-align: right;\">\n",
       "      <th></th>\n",
       "      <th>id</th>\n",
       "      <th>pred</th>\n",
       "    </tr>\n",
       "  </thead>\n",
       "  <tbody>\n",
       "    <tr>\n",
       "      <th>0</th>\n",
       "      <td>1</td>\n",
       "      <td>22.808289</td>\n",
       "    </tr>\n",
       "    <tr>\n",
       "      <th>1</th>\n",
       "      <td>2</td>\n",
       "      <td>15.977661</td>\n",
       "    </tr>\n",
       "    <tr>\n",
       "      <th>2</th>\n",
       "      <td>5</td>\n",
       "      <td>17.584614</td>\n",
       "    </tr>\n",
       "    <tr>\n",
       "      <th>3</th>\n",
       "      <td>6</td>\n",
       "      <td>25.347910</td>\n",
       "    </tr>\n",
       "    <tr>\n",
       "      <th>4</th>\n",
       "      <td>8</td>\n",
       "      <td>23.612181</td>\n",
       "    </tr>\n",
       "    <tr>\n",
       "      <th>...</th>\n",
       "      <td>...</td>\n",
       "      <td>...</td>\n",
       "    </tr>\n",
       "    <tr>\n",
       "      <th>495</th>\n",
       "      <td>992</td>\n",
       "      <td>17.968962</td>\n",
       "    </tr>\n",
       "    <tr>\n",
       "      <th>496</th>\n",
       "      <td>993</td>\n",
       "      <td>24.335495</td>\n",
       "    </tr>\n",
       "    <tr>\n",
       "      <th>497</th>\n",
       "      <td>996</td>\n",
       "      <td>18.278454</td>\n",
       "    </tr>\n",
       "    <tr>\n",
       "      <th>498</th>\n",
       "      <td>998</td>\n",
       "      <td>17.542641</td>\n",
       "    </tr>\n",
       "    <tr>\n",
       "      <th>499</th>\n",
       "      <td>999</td>\n",
       "      <td>27.180300</td>\n",
       "    </tr>\n",
       "  </tbody>\n",
       "</table>\n",
       "<p>500 rows × 2 columns</p>\n",
       "</div>"
      ],
      "text/plain": [
       "      id       pred\n",
       "0      1  22.808289\n",
       "1      2  15.977661\n",
       "2      5  17.584614\n",
       "3      6  25.347910\n",
       "4      8  23.612181\n",
       "..   ...        ...\n",
       "495  992  17.968962\n",
       "496  993  24.335495\n",
       "497  996  18.278454\n",
       "498  998  17.542641\n",
       "499  999  27.180300\n",
       "\n",
       "[500 rows x 2 columns]"
      ]
     },
     "metadata": {},
     "output_type": "display_data"
    }
   ],
   "source": [
    "dt = datetime.datetime.now().strftime('%Y-%m-%d-%H-%M-%S')\n",
    "submission = pd.DataFrame({'id':sample_sub.id})\n",
    "\n",
    "submission = pd.concat(\n",
    "    [submission, pd.Series(pred, name='pred')],\n",
    "    axis=1\n",
    ")\n",
    "\n",
    "display(submission)"
   ]
  },
  {
   "cell_type": "markdown",
   "metadata": {},
   "source": [
    "# Save Files"
   ]
  },
  {
   "cell_type": "code",
   "execution_count": 93,
   "metadata": {},
   "outputs": [],
   "source": [
    "# features\n",
    "train_treated.to_pickle('../features/feature_train_' + dt + '_treated.pkl')\n",
    "test_treated.to_pickle('../features/feature_test_' + dt + '_treated.pkl')\n",
    "\n",
    "# submission\n",
    "submission[['id', 'pred']].to_csv('../data/output/sub_' + dt + '_nn.csv', header=False, index=False)\n",
    "# model\n",
    "pickle.dump(best_model, open('../models/model_' + dt + '_nn.pickle', 'wb'))\n",
    "# best parameter\n",
    "pickle.dump(best_params, open('../logs/params_' + dt + '_nn.pickle', 'wb'))\n",
    "# best train score\n",
    "pickle.dump(score, open('../logs/train_score' + dt + '_nn.pickle', 'wb'))"
   ]
  },
  {
   "cell_type": "code",
   "execution_count": null,
   "metadata": {},
   "outputs": [],
   "source": []
  }
 ],
 "metadata": {
  "kernelspec": {
   "display_name": "Environment (conda_ml)",
   "language": "python",
   "name": "conda_ml"
  },
  "language_info": {
   "codemirror_mode": {
    "name": "ipython",
    "version": 3
   },
   "file_extension": ".py",
   "mimetype": "text/x-python",
   "name": "python",
   "nbconvert_exporter": "python",
   "pygments_lexer": "ipython3",
   "version": "3.7.7"
  }
 },
 "nbformat": 4,
 "nbformat_minor": 4
}
